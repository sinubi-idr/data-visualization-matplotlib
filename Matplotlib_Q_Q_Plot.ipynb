{
  "nbformat": 4,
  "nbformat_minor": 0,
  "metadata": {
    "colab": {
      "provenance": [],
      "toc_visible": true,
      "authorship_tag": "ABX9TyP55QBerhwcweIDIVjCGUtN"
    },
    "kernelspec": {
      "name": "python3",
      "display_name": "Python 3"
    },
    "language_info": {
      "name": "python"
    }
  },
  "cells": [
    {
      "cell_type": "markdown",
      "source": [
        "# **Data Visualization - Python - Matplotlib**\n",
        "\n",
        "Q–Q (Quantile-Quantile) Plot\n",
        "\n",
        "[![Open In Colab](https://colab.research.google.com/assets/colab-badge.svg)](https://colab.research.google.com/drive/10q7Wo7KCAQC2YcgBxY8KVIXp2N6-10OS?usp=sharing)\n",
        "\n",
        "*Oleh : Sinubi*"
      ],
      "metadata": {
        "id": "G99skov9tpQM"
      }
    },
    {
      "cell_type": "markdown",
      "source": [
        "## Persiapan"
      ],
      "metadata": {
        "id": "SVUnmMAAvR42"
      }
    },
    {
      "cell_type": "code",
      "source": [
        "# Import Packages/Libraries yang diperlukan\n",
        "import matplotlib\n",
        "import matplotlib.pyplot as plt\n",
        "import numpy as np\n",
        "import pandas as pd\n",
        "import statsmodels\n",
        "import statsmodels.api as sm\n",
        "import scipy\n",
        "import scipy.stats as stats\n",
        "import gdown"
      ],
      "metadata": {
        "id": "gMGUIgiJvU1N"
      },
      "execution_count": null,
      "outputs": []
    },
    {
      "cell_type": "code",
      "source": [
        "# Menampilkan Versi Packages yang digunakan\n",
        "print(\"Versi Matplotlib  : \", matplotlib.__version__)\n",
        "print(\"Versi Numpy       : \", np.__version__)\n",
        "print(\"Versi Pandas      : \", pd.__version__)\n",
        "print(\"Versi Statsmodels : \", statsmodels.__version__)\n",
        "print(\"Versi Scipy       : \", scipy.__version__)\n",
        "print(\"Versi Gdown       : \", gdown.__version__)"
      ],
      "metadata": {
        "colab": {
          "base_uri": "https://localhost:8080/"
        },
        "id": "dL21zyPLwJgf",
        "outputId": "b53b7b36-6126-40a9-fab5-5285930ed0a4"
      },
      "execution_count": null,
      "outputs": [
        {
          "output_type": "stream",
          "name": "stdout",
          "text": [
            "Versi Matplotlib  :  3.7.1\n",
            "Versi Numpy       :  1.23.5\n",
            "Versi Pandas      :  1.5.3\n",
            "Versi Statsmodels :  0.14.0\n",
            "Versi Scipy       :  1.11.4\n",
            "Versi Gdown       :  4.6.6\n"
          ]
        }
      ]
    },
    {
      "cell_type": "code",
      "source": [
        "# Download Dataset Sinubi\n",
        "gdown.download_folder(\"https://drive.google.com/drive/folders/1d0O3AuXl4z8VSj75v6WWuaxtUWXnmSYB?usp=sharing\")"
      ],
      "metadata": {
        "colab": {
          "base_uri": "https://localhost:8080/"
        },
        "id": "mHnHRY6TvzJ5",
        "outputId": "2ec8ab6f-822b-402c-ac65-601b3f42988b"
      },
      "execution_count": null,
      "outputs": [
        {
          "output_type": "stream",
          "name": "stderr",
          "text": [
            "Retrieving folder list\n"
          ]
        },
        {
          "output_type": "stream",
          "name": "stdout",
          "text": [
            "Processing file 1Z1oDLjOAedliOGfI_zRiV9UgqXUC605G Dataset SJ 01.xlsx\n",
            "Processing file 1gme7jjukWjJrfeKG01aBBx8CTS3cHxOu Dataset SJ 02.xlsx\n",
            "Building directory structure completed\n"
          ]
        },
        {
          "output_type": "stream",
          "name": "stderr",
          "text": [
            "Retrieving folder list completed\n",
            "Building directory structure\n",
            "Downloading...\n",
            "From: https://drive.google.com/uc?id=1Z1oDLjOAedliOGfI_zRiV9UgqXUC605G\n",
            "To: /content/Sinubi's Journey/Dataset SJ 01.xlsx\n",
            "100%|██████████| 12.2k/12.2k [00:00<00:00, 22.1MB/s]\n",
            "Downloading...\n",
            "From: https://drive.google.com/uc?id=1gme7jjukWjJrfeKG01aBBx8CTS3cHxOu\n",
            "To: /content/Sinubi's Journey/Dataset SJ 02.xlsx\n",
            "100%|██████████| 12.2k/12.2k [00:00<00:00, 2.67MB/s]\n",
            "Download completed\n"
          ]
        },
        {
          "output_type": "execute_result",
          "data": {
            "text/plain": [
              "[\"/content/Sinubi's Journey/Dataset SJ 01.xlsx\",\n",
              " \"/content/Sinubi's Journey/Dataset SJ 02.xlsx\"]"
            ]
          },
          "metadata": {},
          "execution_count": 60
        }
      ]
    },
    {
      "cell_type": "code",
      "source": [
        "# Import Dataset Sinubi\n",
        "nama_file = \"./Sinubi's Journey/Dataset SJ 01.xlsx\"\n",
        "\n",
        "data_df = pd.read_excel(nama_file, sheet_name='data')"
      ],
      "metadata": {
        "id": "-mnT2MgXwB9X"
      },
      "execution_count": null,
      "outputs": []
    },
    {
      "cell_type": "code",
      "source": [
        "# Menampilkan Beberapa Data Awal pada Dataset Sinubi\n",
        "data_df.head()"
      ],
      "metadata": {
        "colab": {
          "base_uri": "https://localhost:8080/",
          "height": 206
        },
        "id": "bKvAF0hUzU3F",
        "outputId": "ebb92b39-cbe4-45e2-a749-72ce2a6f9414"
      },
      "execution_count": null,
      "outputs": [
        {
          "output_type": "execute_result",
          "data": {
            "text/plain": [
              "  Nomor Induk    Nama Jenis Kelamin      Mata Pelajaran Akses Internet  \\\n",
              "0     DS23001  Sinubi          Pria  Pemrograman Python            Ada   \n",
              "1     DS23002    Budi          Pria  Pemrograman Python            Ada   \n",
              "2     DS23003     Ayu        Wanita  Pemrograman Python            Ada   \n",
              "3     DS23004    Tono          Pria    Machine Learning            Ada   \n",
              "4     DS23005   Putri        Wanita    Machine Learning            Ada   \n",
              "\n",
              "   Waktu Belajar  Nilai  Lulus  \n",
              "0            8.0     85  Lulus  \n",
              "1            7.5     80  Lulus  \n",
              "2            8.5     90  Lulus  \n",
              "3            8.2     88  Lulus  \n",
              "4            7.7     83  Lulus  "
            ],
            "text/html": [
              "\n",
              "  <div id=\"df-42461d6c-961c-4627-aa1b-c162942cc7ec\" class=\"colab-df-container\">\n",
              "    <div>\n",
              "<style scoped>\n",
              "    .dataframe tbody tr th:only-of-type {\n",
              "        vertical-align: middle;\n",
              "    }\n",
              "\n",
              "    .dataframe tbody tr th {\n",
              "        vertical-align: top;\n",
              "    }\n",
              "\n",
              "    .dataframe thead th {\n",
              "        text-align: right;\n",
              "    }\n",
              "</style>\n",
              "<table border=\"1\" class=\"dataframe\">\n",
              "  <thead>\n",
              "    <tr style=\"text-align: right;\">\n",
              "      <th></th>\n",
              "      <th>Nomor Induk</th>\n",
              "      <th>Nama</th>\n",
              "      <th>Jenis Kelamin</th>\n",
              "      <th>Mata Pelajaran</th>\n",
              "      <th>Akses Internet</th>\n",
              "      <th>Waktu Belajar</th>\n",
              "      <th>Nilai</th>\n",
              "      <th>Lulus</th>\n",
              "    </tr>\n",
              "  </thead>\n",
              "  <tbody>\n",
              "    <tr>\n",
              "      <th>0</th>\n",
              "      <td>DS23001</td>\n",
              "      <td>Sinubi</td>\n",
              "      <td>Pria</td>\n",
              "      <td>Pemrograman Python</td>\n",
              "      <td>Ada</td>\n",
              "      <td>8.0</td>\n",
              "      <td>85</td>\n",
              "      <td>Lulus</td>\n",
              "    </tr>\n",
              "    <tr>\n",
              "      <th>1</th>\n",
              "      <td>DS23002</td>\n",
              "      <td>Budi</td>\n",
              "      <td>Pria</td>\n",
              "      <td>Pemrograman Python</td>\n",
              "      <td>Ada</td>\n",
              "      <td>7.5</td>\n",
              "      <td>80</td>\n",
              "      <td>Lulus</td>\n",
              "    </tr>\n",
              "    <tr>\n",
              "      <th>2</th>\n",
              "      <td>DS23003</td>\n",
              "      <td>Ayu</td>\n",
              "      <td>Wanita</td>\n",
              "      <td>Pemrograman Python</td>\n",
              "      <td>Ada</td>\n",
              "      <td>8.5</td>\n",
              "      <td>90</td>\n",
              "      <td>Lulus</td>\n",
              "    </tr>\n",
              "    <tr>\n",
              "      <th>3</th>\n",
              "      <td>DS23004</td>\n",
              "      <td>Tono</td>\n",
              "      <td>Pria</td>\n",
              "      <td>Machine Learning</td>\n",
              "      <td>Ada</td>\n",
              "      <td>8.2</td>\n",
              "      <td>88</td>\n",
              "      <td>Lulus</td>\n",
              "    </tr>\n",
              "    <tr>\n",
              "      <th>4</th>\n",
              "      <td>DS23005</td>\n",
              "      <td>Putri</td>\n",
              "      <td>Wanita</td>\n",
              "      <td>Machine Learning</td>\n",
              "      <td>Ada</td>\n",
              "      <td>7.7</td>\n",
              "      <td>83</td>\n",
              "      <td>Lulus</td>\n",
              "    </tr>\n",
              "  </tbody>\n",
              "</table>\n",
              "</div>\n",
              "    <div class=\"colab-df-buttons\">\n",
              "\n",
              "  <div class=\"colab-df-container\">\n",
              "    <button class=\"colab-df-convert\" onclick=\"convertToInteractive('df-42461d6c-961c-4627-aa1b-c162942cc7ec')\"\n",
              "            title=\"Convert this dataframe to an interactive table.\"\n",
              "            style=\"display:none;\">\n",
              "\n",
              "  <svg xmlns=\"http://www.w3.org/2000/svg\" height=\"24px\" viewBox=\"0 -960 960 960\">\n",
              "    <path d=\"M120-120v-720h720v720H120Zm60-500h600v-160H180v160Zm220 220h160v-160H400v160Zm0 220h160v-160H400v160ZM180-400h160v-160H180v160Zm440 0h160v-160H620v160ZM180-180h160v-160H180v160Zm440 0h160v-160H620v160Z\"/>\n",
              "  </svg>\n",
              "    </button>\n",
              "\n",
              "  <style>\n",
              "    .colab-df-container {\n",
              "      display:flex;\n",
              "      gap: 12px;\n",
              "    }\n",
              "\n",
              "    .colab-df-convert {\n",
              "      background-color: #E8F0FE;\n",
              "      border: none;\n",
              "      border-radius: 50%;\n",
              "      cursor: pointer;\n",
              "      display: none;\n",
              "      fill: #1967D2;\n",
              "      height: 32px;\n",
              "      padding: 0 0 0 0;\n",
              "      width: 32px;\n",
              "    }\n",
              "\n",
              "    .colab-df-convert:hover {\n",
              "      background-color: #E2EBFA;\n",
              "      box-shadow: 0px 1px 2px rgba(60, 64, 67, 0.3), 0px 1px 3px 1px rgba(60, 64, 67, 0.15);\n",
              "      fill: #174EA6;\n",
              "    }\n",
              "\n",
              "    .colab-df-buttons div {\n",
              "      margin-bottom: 4px;\n",
              "    }\n",
              "\n",
              "    [theme=dark] .colab-df-convert {\n",
              "      background-color: #3B4455;\n",
              "      fill: #D2E3FC;\n",
              "    }\n",
              "\n",
              "    [theme=dark] .colab-df-convert:hover {\n",
              "      background-color: #434B5C;\n",
              "      box-shadow: 0px 1px 3px 1px rgba(0, 0, 0, 0.15);\n",
              "      filter: drop-shadow(0px 1px 2px rgba(0, 0, 0, 0.3));\n",
              "      fill: #FFFFFF;\n",
              "    }\n",
              "  </style>\n",
              "\n",
              "    <script>\n",
              "      const buttonEl =\n",
              "        document.querySelector('#df-42461d6c-961c-4627-aa1b-c162942cc7ec button.colab-df-convert');\n",
              "      buttonEl.style.display =\n",
              "        google.colab.kernel.accessAllowed ? 'block' : 'none';\n",
              "\n",
              "      async function convertToInteractive(key) {\n",
              "        const element = document.querySelector('#df-42461d6c-961c-4627-aa1b-c162942cc7ec');\n",
              "        const dataTable =\n",
              "          await google.colab.kernel.invokeFunction('convertToInteractive',\n",
              "                                                    [key], {});\n",
              "        if (!dataTable) return;\n",
              "\n",
              "        const docLinkHtml = 'Like what you see? Visit the ' +\n",
              "          '<a target=\"_blank\" href=https://colab.research.google.com/notebooks/data_table.ipynb>data table notebook</a>'\n",
              "          + ' to learn more about interactive tables.';\n",
              "        element.innerHTML = '';\n",
              "        dataTable['output_type'] = 'display_data';\n",
              "        await google.colab.output.renderOutput(dataTable, element);\n",
              "        const docLink = document.createElement('div');\n",
              "        docLink.innerHTML = docLinkHtml;\n",
              "        element.appendChild(docLink);\n",
              "      }\n",
              "    </script>\n",
              "  </div>\n",
              "\n",
              "\n",
              "<div id=\"df-bc4e8b83-a9d4-4ab4-bf1b-6a053727a9e9\">\n",
              "  <button class=\"colab-df-quickchart\" onclick=\"quickchart('df-bc4e8b83-a9d4-4ab4-bf1b-6a053727a9e9')\"\n",
              "            title=\"Suggest charts\"\n",
              "            style=\"display:none;\">\n",
              "\n",
              "<svg xmlns=\"http://www.w3.org/2000/svg\" height=\"24px\"viewBox=\"0 0 24 24\"\n",
              "     width=\"24px\">\n",
              "    <g>\n",
              "        <path d=\"M19 3H5c-1.1 0-2 .9-2 2v14c0 1.1.9 2 2 2h14c1.1 0 2-.9 2-2V5c0-1.1-.9-2-2-2zM9 17H7v-7h2v7zm4 0h-2V7h2v10zm4 0h-2v-4h2v4z\"/>\n",
              "    </g>\n",
              "</svg>\n",
              "  </button>\n",
              "\n",
              "<style>\n",
              "  .colab-df-quickchart {\n",
              "      --bg-color: #E8F0FE;\n",
              "      --fill-color: #1967D2;\n",
              "      --hover-bg-color: #E2EBFA;\n",
              "      --hover-fill-color: #174EA6;\n",
              "      --disabled-fill-color: #AAA;\n",
              "      --disabled-bg-color: #DDD;\n",
              "  }\n",
              "\n",
              "  [theme=dark] .colab-df-quickchart {\n",
              "      --bg-color: #3B4455;\n",
              "      --fill-color: #D2E3FC;\n",
              "      --hover-bg-color: #434B5C;\n",
              "      --hover-fill-color: #FFFFFF;\n",
              "      --disabled-bg-color: #3B4455;\n",
              "      --disabled-fill-color: #666;\n",
              "  }\n",
              "\n",
              "  .colab-df-quickchart {\n",
              "    background-color: var(--bg-color);\n",
              "    border: none;\n",
              "    border-radius: 50%;\n",
              "    cursor: pointer;\n",
              "    display: none;\n",
              "    fill: var(--fill-color);\n",
              "    height: 32px;\n",
              "    padding: 0;\n",
              "    width: 32px;\n",
              "  }\n",
              "\n",
              "  .colab-df-quickchart:hover {\n",
              "    background-color: var(--hover-bg-color);\n",
              "    box-shadow: 0 1px 2px rgba(60, 64, 67, 0.3), 0 1px 3px 1px rgba(60, 64, 67, 0.15);\n",
              "    fill: var(--button-hover-fill-color);\n",
              "  }\n",
              "\n",
              "  .colab-df-quickchart-complete:disabled,\n",
              "  .colab-df-quickchart-complete:disabled:hover {\n",
              "    background-color: var(--disabled-bg-color);\n",
              "    fill: var(--disabled-fill-color);\n",
              "    box-shadow: none;\n",
              "  }\n",
              "\n",
              "  .colab-df-spinner {\n",
              "    border: 2px solid var(--fill-color);\n",
              "    border-color: transparent;\n",
              "    border-bottom-color: var(--fill-color);\n",
              "    animation:\n",
              "      spin 1s steps(1) infinite;\n",
              "  }\n",
              "\n",
              "  @keyframes spin {\n",
              "    0% {\n",
              "      border-color: transparent;\n",
              "      border-bottom-color: var(--fill-color);\n",
              "      border-left-color: var(--fill-color);\n",
              "    }\n",
              "    20% {\n",
              "      border-color: transparent;\n",
              "      border-left-color: var(--fill-color);\n",
              "      border-top-color: var(--fill-color);\n",
              "    }\n",
              "    30% {\n",
              "      border-color: transparent;\n",
              "      border-left-color: var(--fill-color);\n",
              "      border-top-color: var(--fill-color);\n",
              "      border-right-color: var(--fill-color);\n",
              "    }\n",
              "    40% {\n",
              "      border-color: transparent;\n",
              "      border-right-color: var(--fill-color);\n",
              "      border-top-color: var(--fill-color);\n",
              "    }\n",
              "    60% {\n",
              "      border-color: transparent;\n",
              "      border-right-color: var(--fill-color);\n",
              "    }\n",
              "    80% {\n",
              "      border-color: transparent;\n",
              "      border-right-color: var(--fill-color);\n",
              "      border-bottom-color: var(--fill-color);\n",
              "    }\n",
              "    90% {\n",
              "      border-color: transparent;\n",
              "      border-bottom-color: var(--fill-color);\n",
              "    }\n",
              "  }\n",
              "</style>\n",
              "\n",
              "  <script>\n",
              "    async function quickchart(key) {\n",
              "      const quickchartButtonEl =\n",
              "        document.querySelector('#' + key + ' button');\n",
              "      quickchartButtonEl.disabled = true;  // To prevent multiple clicks.\n",
              "      quickchartButtonEl.classList.add('colab-df-spinner');\n",
              "      try {\n",
              "        const charts = await google.colab.kernel.invokeFunction(\n",
              "            'suggestCharts', [key], {});\n",
              "      } catch (error) {\n",
              "        console.error('Error during call to suggestCharts:', error);\n",
              "      }\n",
              "      quickchartButtonEl.classList.remove('colab-df-spinner');\n",
              "      quickchartButtonEl.classList.add('colab-df-quickchart-complete');\n",
              "    }\n",
              "    (() => {\n",
              "      let quickchartButtonEl =\n",
              "        document.querySelector('#df-bc4e8b83-a9d4-4ab4-bf1b-6a053727a9e9 button');\n",
              "      quickchartButtonEl.style.display =\n",
              "        google.colab.kernel.accessAllowed ? 'block' : 'none';\n",
              "    })();\n",
              "  </script>\n",
              "</div>\n",
              "    </div>\n",
              "  </div>\n"
            ]
          },
          "metadata": {},
          "execution_count": 62
        }
      ]
    },
    {
      "cell_type": "code",
      "source": [
        "# Menampilkan Statistik Deskriptif dari Variabel \"Nilai\" pada Dataset Sinubi\n",
        "data_df['Nilai'].describe()"
      ],
      "metadata": {
        "colab": {
          "base_uri": "https://localhost:8080/"
        },
        "id": "3pifD2gc011t",
        "outputId": "ba80d4d0-f4eb-4d4a-a799-65860fc7f76f"
      },
      "execution_count": null,
      "outputs": [
        {
          "output_type": "execute_result",
          "data": {
            "text/plain": [
              "count    60.000000\n",
              "mean     63.966667\n",
              "std      19.961800\n",
              "min      23.000000\n",
              "25%      45.750000\n",
              "50%      66.500000\n",
              "75%      81.250000\n",
              "max      92.000000\n",
              "Name: Nilai, dtype: float64"
            ]
          },
          "metadata": {},
          "execution_count": 63
        }
      ]
    },
    {
      "cell_type": "markdown",
      "source": [
        "## *Q-Q Plot* dari Array"
      ],
      "metadata": {
        "id": "0Nr1FaFwu1Pg"
      }
    },
    {
      "cell_type": "code",
      "execution_count": null,
      "metadata": {
        "colab": {
          "base_uri": "https://localhost:8080/",
          "height": 333
        },
        "id": "JE1XpTCPtdGj",
        "outputId": "2cd6c22d-298c-4d67-eb97-8e5959b6f7d0"
      },
      "outputs": [
        {
          "output_type": "display_data",
          "data": {
            "text/plain": [
              "<Figure size 500x300 with 1 Axes>"
            ],
            "image/png": "[encoded data removed]"
          },
          "metadata": {}
        }
      ],
      "source": [
        "# Menyiapkan Data X\n",
        "X = np.random.normal(0,1, 1000) # Distribusi Normal/Gaussian (Mean = 0, Std = 1, n = 1000)\n",
        "\n",
        "# Membuat Q-Q Plot\n",
        "fig, ax = plt.subplots(1, figsize=(5,3))  # Ukuran Gambar (dalam inci)\n",
        "\n",
        "fig = sm.qqplot(X, line = '45', ax = ax)\n",
        "\n",
        "plt.title('Q-Q Plot dari Array')          # Judul Gambar\n",
        "plt.xlabel(\"Kuantil Teoritis\")            # Keterangan untuk Sumbu X\n",
        "plt.ylabel(\"Kuantil Sampel\")              # Keterangan untuk Sumbu Y\n",
        "plt.show()"
      ]
    },
    {
      "cell_type": "markdown",
      "source": [
        "### Mengubah Warna pada *Q-Q Plot*"
      ],
      "metadata": {
        "id": "sGFOt0n-3J5x"
      }
    },
    {
      "cell_type": "code",
      "source": [
        "# Menyiapkan Data X\n",
        "X = np.random.normal(0,1, 1000) # Distribusi Normal/Gaussian (Mean = 0, Std = 1, n = 1000)\n",
        "\n",
        "# Membuat Q-Q Plot\n",
        "fig, ax = plt.subplots(1, figsize=(5,3))  # Ukuran Gambar (dalam inci)\n",
        "\n",
        "fig = sm.qqplot(X, line = '45', ax = ax,\n",
        "                markerfacecolor = 'r',    # Mengubah Warna Badan Marker\n",
        "                markeredgecolor = 'r',    # Mengubah Warna Garis Pinggir Marker\n",
        "                alpha = 0.5)              # Menugbah Transparansi Warna\n",
        "\n",
        "ax.get_lines()[1].set_color(\"black\")      # Mengubah Warna Garis\n",
        "\n",
        "plt.title('Q-Q Plot dari Array')          # Judul Gambar\n",
        "plt.xlabel(\"Kuantil Teoritis\")            # Keterangan untuk Sumbu X\n",
        "plt.ylabel(\"Kuantil Sampel\")              # Keterangan untuk Sumbu Y\n",
        "plt.show()"
      ],
      "metadata": {
        "colab": {
          "base_uri": "https://localhost:8080/",
          "height": 333
        },
        "id": "FVyiUmhD3Mxr",
        "outputId": "f54555b3-1a42-4a51-a7ff-a2a02c847da0"
      },
      "execution_count": null,
      "outputs": [
        {
          "output_type": "display_data",
          "data": {
            "text/plain": [
              "<Figure size 500x300 with 1 Axes>"
            ],
            "image/png": "[encoded data removed]"
          },
          "metadata": {}
        }
      ]
    },
    {
      "cell_type": "markdown",
      "source": [
        "## *Q-Q Plot* dari DataFrame"
      ],
      "metadata": {
        "id": "UcwFs83myg3b"
      }
    },
    {
      "cell_type": "code",
      "source": [
        "# Menyiapkan Data X\n",
        "X = data_df['Nilai']\n",
        "\n",
        "# Membuat Q-Q Plot\n",
        "fig = plt.figure(figsize=(5,3))                     # Ukuran Gambar (dalam inci)\n",
        "ax  = fig.add_subplot(111)\n",
        "\n",
        "fig = stats.probplot(X, dist = \"norm\", plot = plt)\n",
        "\n",
        "plt.title('Q-Q Plot dari DataFrame')                # Judul Gambar\n",
        "plt.xlabel(\"Kuantil Teoritis\")                      # Keterangan untuk Sumbu X\n",
        "plt.ylabel(\"Kuantil Sampel\")                        # Keterangan untuk Sumbu Y\n",
        "plt.show()"
      ],
      "metadata": {
        "colab": {
          "base_uri": "https://localhost:8080/",
          "height": 333
        },
        "id": "tissMpWjzI5L",
        "outputId": "79782d22-b536-46e7-912e-29af57811e46"
      },
      "execution_count": null,
      "outputs": [
        {
          "output_type": "display_data",
          "data": {
            "text/plain": [
              "<Figure size 500x300 with 1 Axes>"
            ],
            "image/png": "[encoded data removed]"
          },
          "metadata": {}
        }
      ]
    },
    {
      "cell_type": "markdown",
      "source": [
        "### Mengubah Warna pada *Q-Q Plot*"
      ],
      "metadata": {
        "id": "-d_cdncg2UdU"
      }
    },
    {
      "cell_type": "code",
      "source": [
        "# Menyiapkan Data X\n",
        "X = data_df['Nilai']\n",
        "\n",
        "# Membuat Q-Q Plot\n",
        "fig = plt.figure(figsize=(5,3))                     # Ukuran Gambar (dalam inci)\n",
        "ax  = fig.add_subplot(111)\n",
        "\n",
        "fig = stats.probplot(X, dist = \"norm\", plot = plt)\n",
        "\n",
        "ax.get_lines()[0].set_markerfacecolor('r')          # Mengubah Warna Badan Marker\n",
        "ax.get_lines()[0].set_color('r')                    # Mengubah Warna Garis Pinggir Marker\n",
        "ax.get_lines()[1].set_color(\"black\")                # Mengubah Warna Garis\n",
        "\n",
        "plt.title('Q-Q Plot dari DataFrame')                # Judul Gambar\n",
        "plt.xlabel(\"Kuantil Teoritis\")                      # Keterangan untuk Sumbu X\n",
        "plt.ylabel(\"Kuantil Sampel\")                        # Keterangan untuk Sumbu Y\n",
        "plt.show()"
      ],
      "metadata": {
        "colab": {
          "base_uri": "https://localhost:8080/",
          "height": 333
        },
        "id": "JLM3KmhE_y6v",
        "outputId": "4813dee8-2e59-4131-be8c-6656d478c788"
      },
      "execution_count": null,
      "outputs": [
        {
          "output_type": "display_data",
          "data": {
            "text/plain": [
              "<Figure size 500x300 with 1 Axes>"
            ],
            "image/png": "[encoded data removed]"
          },
          "metadata": {}
        }
      ]
    },
    {
      "cell_type": "markdown",
      "source": [
        "# Referensi Eksternal\n",
        "\n",
        "*   https://www.geeksforgeeks.org/qqplot-quantile-quantile-plot-in-python/\n",
        "*   https://www.statology.org/q-q-plot-python/\n",
        "*   https://www.reneshbedre.com/blog/qq-plot-python.html\n",
        "*   https://www.yourdatateacher.com/2021/06/21/how-to-use-q-q-plot-for-checking-the-distribution-of-our-data/\n",
        "*   https://www.kaggle.com/code/gadaadhaarigeek/q-q-plot\n",
        "*   https://stackoverflow.com/questions/37463189/change-marker-style-color-in-python-probplot\n",
        "*   https://matplotlib.org/stable/api/markers_api.html\n",
        "\n"
      ],
      "metadata": {
        "id": "sG_ASLwmuidI"
      }
    }
  ]
}