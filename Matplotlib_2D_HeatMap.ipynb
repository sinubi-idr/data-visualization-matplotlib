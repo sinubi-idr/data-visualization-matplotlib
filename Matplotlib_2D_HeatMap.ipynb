{
  "nbformat": 4,
  "nbformat_minor": 0,
  "metadata": {
    "colab": {
      "provenance": [],
      "toc_visible": true,
      "authorship_tag": "ABX9TyOZmD9elQD4HCzrxpo/75ZZ"
    },
    "kernelspec": {
      "name": "python3",
      "display_name": "Python 3"
    },
    "language_info": {
      "name": "python"
    }
  },
  "cells": [
    {
      "cell_type": "markdown",
      "source": [
        "# **Data Visualization - Python - Matplotlib**\n",
        "\n",
        "2D HeatMap\n",
        "\n",
        "[![Open In Colab](https://colab.research.google.com/assets/colab-badge.svg)](https://colab.research.google.com/drive/1ORLBD7ObSCUIDVV8fWbfMa2zhQcl4v8w?usp=sharing)\n",
        "\n",
        "*Oleh : Sinubi*"
      ],
      "metadata": {
        "id": "G99skov9tpQM"
      }
    },
    {
      "cell_type": "markdown",
      "source": [
        "## Persiapan"
      ],
      "metadata": {
        "id": "SVUnmMAAvR42"
      }
    },
    {
      "cell_type": "code",
      "source": [
        "# Import Packages/Libraries yang diperlukan\n",
        "import matplotlib\n",
        "import matplotlib.pyplot as plt\n",
        "from matplotlib import colors\n",
        "import numpy as np\n",
        "import pandas as pd\n",
        "import gdown"
      ],
      "metadata": {
        "id": "gMGUIgiJvU1N"
      },
      "execution_count": null,
      "outputs": []
    },
    {
      "cell_type": "code",
      "source": [
        "# Menampilkan Versi Packages yang digunakan\n",
        "print(\"Versi Matplotlib : \", matplotlib.__version__)\n",
        "print(\"Versi Numpy      : \", np.__version__)\n",
        "print(\"Versi Pandas     : \", pd.__version__)\n",
        "print(\"Versi Gdown      : \", gdown.__version__)"
      ],
      "metadata": {
        "colab": {
          "base_uri": "https://localhost:8080/"
        },
        "id": "dL21zyPLwJgf",
        "outputId": "3e83d8a1-cd5a-4393-bcdd-49f0fc6fa6a9"
      },
      "execution_count": null,
      "outputs": [
        {
          "output_type": "stream",
          "name": "stdout",
          "text": [
            "Versi Matplotlib :  3.7.1\n",
            "Versi Numpy      :  1.23.5\n",
            "Versi Pandas     :  1.5.3\n",
            "Versi Gdown      :  4.6.6\n"
          ]
        }
      ]
    },
    {
      "cell_type": "code",
      "source": [
        "# Download Dataset Sinubi\n",
        "gdown.download_folder(\"https://drive.google.com/drive/folders/1d0O3AuXl4z8VSj75v6WWuaxtUWXnmSYB?usp=sharing\")"
      ],
      "metadata": {
        "colab": {
          "base_uri": "https://localhost:8080/"
        },
        "id": "mHnHRY6TvzJ5",
        "outputId": "67a5dbe9-415d-4206-e8e2-eb949c44e714"
      },
      "execution_count": null,
      "outputs": [
        {
          "output_type": "stream",
          "name": "stderr",
          "text": [
            "Retrieving folder list\n"
          ]
        },
        {
          "output_type": "stream",
          "name": "stdout",
          "text": [
            "Processing file 1Z1oDLjOAedliOGfI_zRiV9UgqXUC605G Dataset SJ 01.xlsx\n",
            "Processing file 1gme7jjukWjJrfeKG01aBBx8CTS3cHxOu Dataset SJ 02.xlsx\n",
            "Building directory structure completed\n"
          ]
        },
        {
          "output_type": "stream",
          "name": "stderr",
          "text": [
            "Retrieving folder list completed\n",
            "Building directory structure\n",
            "Downloading...\n",
            "From: https://drive.google.com/uc?id=1Z1oDLjOAedliOGfI_zRiV9UgqXUC605G\n",
            "To: /content/Sinubi's Journey/Dataset SJ 01.xlsx\n",
            "100%|██████████| 12.2k/12.2k [00:00<00:00, 16.2MB/s]\n",
            "Downloading...\n",
            "From: https://drive.google.com/uc?id=1gme7jjukWjJrfeKG01aBBx8CTS3cHxOu\n",
            "To: /content/Sinubi's Journey/Dataset SJ 02.xlsx\n",
            "100%|██████████| 12.2k/12.2k [00:00<00:00, 31.4MB/s]\n",
            "Download completed\n"
          ]
        },
        {
          "output_type": "execute_result",
          "data": {
            "text/plain": [
              "[\"/content/Sinubi's Journey/Dataset SJ 01.xlsx\",\n",
              " \"/content/Sinubi's Journey/Dataset SJ 02.xlsx\"]"
            ]
          },
          "metadata": {},
          "execution_count": 3
        }
      ]
    },
    {
      "cell_type": "code",
      "source": [
        "# Import Dataset Sinubi\n",
        "nama_file = \"./Sinubi's Journey/Dataset SJ 01.xlsx\"\n",
        "\n",
        "data_df = pd.read_excel(nama_file, sheet_name='data')"
      ],
      "metadata": {
        "id": "-mnT2MgXwB9X"
      },
      "execution_count": null,
      "outputs": []
    },
    {
      "cell_type": "code",
      "source": [
        "# Menampilkan Beberapa Data Awal pada Dataset Sinubi\n",
        "data_df.head()"
      ],
      "metadata": {
        "colab": {
          "base_uri": "https://localhost:8080/",
          "height": 206
        },
        "id": "bKvAF0hUzU3F",
        "outputId": "dd41a8ce-4d50-42fc-82e3-fea4f52830d1"
      },
      "execution_count": null,
      "outputs": [
        {
          "output_type": "execute_result",
          "data": {
            "text/plain": [
              "  Nomor Induk    Nama Jenis Kelamin      Mata Pelajaran Akses Internet  \\\n",
              "0     DS23001  Sinubi          Pria  Pemrograman Python            Ada   \n",
              "1     DS23002    Budi          Pria  Pemrograman Python            Ada   \n",
              "2     DS23003     Ayu        Wanita  Pemrograman Python            Ada   \n",
              "3     DS23004    Tono          Pria    Machine Learning            Ada   \n",
              "4     DS23005   Putri        Wanita    Machine Learning            Ada   \n",
              "\n",
              "   Waktu Belajar  Nilai  Lulus  \n",
              "0            8.0     85  Lulus  \n",
              "1            7.5     80  Lulus  \n",
              "2            8.5     90  Lulus  \n",
              "3            8.2     88  Lulus  \n",
              "4            7.7     83  Lulus  "
            ],
            "text/html": [
              "\n",
              "  <div id=\"df-b60bbbfe-06f3-4b3e-b52a-1175f85bce89\" class=\"colab-df-container\">\n",
              "    <div>\n",
              "<style scoped>\n",
              "    .dataframe tbody tr th:only-of-type {\n",
              "        vertical-align: middle;\n",
              "    }\n",
              "\n",
              "    .dataframe tbody tr th {\n",
              "        vertical-align: top;\n",
              "    }\n",
              "\n",
              "    .dataframe thead th {\n",
              "        text-align: right;\n",
              "    }\n",
              "</style>\n",
              "<table border=\"1\" class=\"dataframe\">\n",
              "  <thead>\n",
              "    <tr style=\"text-align: right;\">\n",
              "      <th></th>\n",
              "      <th>Nomor Induk</th>\n",
              "      <th>Nama</th>\n",
              "      <th>Jenis Kelamin</th>\n",
              "      <th>Mata Pelajaran</th>\n",
              "      <th>Akses Internet</th>\n",
              "      <th>Waktu Belajar</th>\n",
              "      <th>Nilai</th>\n",
              "      <th>Lulus</th>\n",
              "    </tr>\n",
              "  </thead>\n",
              "  <tbody>\n",
              "    <tr>\n",
              "      <th>0</th>\n",
              "      <td>DS23001</td>\n",
              "      <td>Sinubi</td>\n",
              "      <td>Pria</td>\n",
              "      <td>Pemrograman Python</td>\n",
              "      <td>Ada</td>\n",
              "      <td>8.0</td>\n",
              "      <td>85</td>\n",
              "      <td>Lulus</td>\n",
              "    </tr>\n",
              "    <tr>\n",
              "      <th>1</th>\n",
              "      <td>DS23002</td>\n",
              "      <td>Budi</td>\n",
              "      <td>Pria</td>\n",
              "      <td>Pemrograman Python</td>\n",
              "      <td>Ada</td>\n",
              "      <td>7.5</td>\n",
              "      <td>80</td>\n",
              "      <td>Lulus</td>\n",
              "    </tr>\n",
              "    <tr>\n",
              "      <th>2</th>\n",
              "      <td>DS23003</td>\n",
              "      <td>Ayu</td>\n",
              "      <td>Wanita</td>\n",
              "      <td>Pemrograman Python</td>\n",
              "      <td>Ada</td>\n",
              "      <td>8.5</td>\n",
              "      <td>90</td>\n",
              "      <td>Lulus</td>\n",
              "    </tr>\n",
              "    <tr>\n",
              "      <th>3</th>\n",
              "      <td>DS23004</td>\n",
              "      <td>Tono</td>\n",
              "      <td>Pria</td>\n",
              "      <td>Machine Learning</td>\n",
              "      <td>Ada</td>\n",
              "      <td>8.2</td>\n",
              "      <td>88</td>\n",
              "      <td>Lulus</td>\n",
              "    </tr>\n",
              "    <tr>\n",
              "      <th>4</th>\n",
              "      <td>DS23005</td>\n",
              "      <td>Putri</td>\n",
              "      <td>Wanita</td>\n",
              "      <td>Machine Learning</td>\n",
              "      <td>Ada</td>\n",
              "      <td>7.7</td>\n",
              "      <td>83</td>\n",
              "      <td>Lulus</td>\n",
              "    </tr>\n",
              "  </tbody>\n",
              "</table>\n",
              "</div>\n",
              "    <div class=\"colab-df-buttons\">\n",
              "\n",
              "  <div class=\"colab-df-container\">\n",
              "    <button class=\"colab-df-convert\" onclick=\"convertToInteractive('df-b60bbbfe-06f3-4b3e-b52a-1175f85bce89')\"\n",
              "            title=\"Convert this dataframe to an interactive table.\"\n",
              "            style=\"display:none;\">\n",
              "\n",
              "  <svg xmlns=\"http://www.w3.org/2000/svg\" height=\"24px\" viewBox=\"0 -960 960 960\">\n",
              "    <path d=\"M120-120v-720h720v720H120Zm60-500h600v-160H180v160Zm220 220h160v-160H400v160Zm0 220h160v-160H400v160ZM180-400h160v-160H180v160Zm440 0h160v-160H620v160ZM180-180h160v-160H180v160Zm440 0h160v-160H620v160Z\"/>\n",
              "  </svg>\n",
              "    </button>\n",
              "\n",
              "  <style>\n",
              "    .colab-df-container {\n",
              "      display:flex;\n",
              "      gap: 12px;\n",
              "    }\n",
              "\n",
              "    .colab-df-convert {\n",
              "      background-color: #E8F0FE;\n",
              "      border: none;\n",
              "      border-radius: 50%;\n",
              "      cursor: pointer;\n",
              "      display: none;\n",
              "      fill: #1967D2;\n",
              "      height: 32px;\n",
              "      padding: 0 0 0 0;\n",
              "      width: 32px;\n",
              "    }\n",
              "\n",
              "    .colab-df-convert:hover {\n",
              "      background-color: #E2EBFA;\n",
              "      box-shadow: 0px 1px 2px rgba(60, 64, 67, 0.3), 0px 1px 3px 1px rgba(60, 64, 67, 0.15);\n",
              "      fill: #174EA6;\n",
              "    }\n",
              "\n",
              "    .colab-df-buttons div {\n",
              "      margin-bottom: 4px;\n",
              "    }\n",
              "\n",
              "    [theme=dark] .colab-df-convert {\n",
              "      background-color: #3B4455;\n",
              "      fill: #D2E3FC;\n",
              "    }\n",
              "\n",
              "    [theme=dark] .colab-df-convert:hover {\n",
              "      background-color: #434B5C;\n",
              "      box-shadow: 0px 1px 3px 1px rgba(0, 0, 0, 0.15);\n",
              "      filter: drop-shadow(0px 1px 2px rgba(0, 0, 0, 0.3));\n",
              "      fill: #FFFFFF;\n",
              "    }\n",
              "  </style>\n",
              "\n",
              "    <script>\n",
              "      const buttonEl =\n",
              "        document.querySelector('#df-b60bbbfe-06f3-4b3e-b52a-1175f85bce89 button.colab-df-convert');\n",
              "      buttonEl.style.display =\n",
              "        google.colab.kernel.accessAllowed ? 'block' : 'none';\n",
              "\n",
              "      async function convertToInteractive(key) {\n",
              "        const element = document.querySelector('#df-b60bbbfe-06f3-4b3e-b52a-1175f85bce89');\n",
              "        const dataTable =\n",
              "          await google.colab.kernel.invokeFunction('convertToInteractive',\n",
              "                                                    [key], {});\n",
              "        if (!dataTable) return;\n",
              "\n",
              "        const docLinkHtml = 'Like what you see? Visit the ' +\n",
              "          '<a target=\"_blank\" href=https://colab.research.google.com/notebooks/data_table.ipynb>data table notebook</a>'\n",
              "          + ' to learn more about interactive tables.';\n",
              "        element.innerHTML = '';\n",
              "        dataTable['output_type'] = 'display_data';\n",
              "        await google.colab.output.renderOutput(dataTable, element);\n",
              "        const docLink = document.createElement('div');\n",
              "        docLink.innerHTML = docLinkHtml;\n",
              "        element.appendChild(docLink);\n",
              "      }\n",
              "    </script>\n",
              "  </div>\n",
              "\n",
              "\n",
              "<div id=\"df-e852d2e0-12e4-4201-b4d2-3d47e0da2d1e\">\n",
              "  <button class=\"colab-df-quickchart\" onclick=\"quickchart('df-e852d2e0-12e4-4201-b4d2-3d47e0da2d1e')\"\n",
              "            title=\"Suggest charts\"\n",
              "            style=\"display:none;\">\n",
              "\n",
              "<svg xmlns=\"http://www.w3.org/2000/svg\" height=\"24px\"viewBox=\"0 0 24 24\"\n",
              "     width=\"24px\">\n",
              "    <g>\n",
              "        <path d=\"M19 3H5c-1.1 0-2 .9-2 2v14c0 1.1.9 2 2 2h14c1.1 0 2-.9 2-2V5c0-1.1-.9-2-2-2zM9 17H7v-7h2v7zm4 0h-2V7h2v10zm4 0h-2v-4h2v4z\"/>\n",
              "    </g>\n",
              "</svg>\n",
              "  </button>\n",
              "\n",
              "<style>\n",
              "  .colab-df-quickchart {\n",
              "      --bg-color: #E8F0FE;\n",
              "      --fill-color: #1967D2;\n",
              "      --hover-bg-color: #E2EBFA;\n",
              "      --hover-fill-color: #174EA6;\n",
              "      --disabled-fill-color: #AAA;\n",
              "      --disabled-bg-color: #DDD;\n",
              "  }\n",
              "\n",
              "  [theme=dark] .colab-df-quickchart {\n",
              "      --bg-color: #3B4455;\n",
              "      --fill-color: #D2E3FC;\n",
              "      --hover-bg-color: #434B5C;\n",
              "      --hover-fill-color: #FFFFFF;\n",
              "      --disabled-bg-color: #3B4455;\n",
              "      --disabled-fill-color: #666;\n",
              "  }\n",
              "\n",
              "  .colab-df-quickchart {\n",
              "    background-color: var(--bg-color);\n",
              "    border: none;\n",
              "    border-radius: 50%;\n",
              "    cursor: pointer;\n",
              "    display: none;\n",
              "    fill: var(--fill-color);\n",
              "    height: 32px;\n",
              "    padding: 0;\n",
              "    width: 32px;\n",
              "  }\n",
              "\n",
              "  .colab-df-quickchart:hover {\n",
              "    background-color: var(--hover-bg-color);\n",
              "    box-shadow: 0 1px 2px rgba(60, 64, 67, 0.3), 0 1px 3px 1px rgba(60, 64, 67, 0.15);\n",
              "    fill: var(--button-hover-fill-color);\n",
              "  }\n",
              "\n",
              "  .colab-df-quickchart-complete:disabled,\n",
              "  .colab-df-quickchart-complete:disabled:hover {\n",
              "    background-color: var(--disabled-bg-color);\n",
              "    fill: var(--disabled-fill-color);\n",
              "    box-shadow: none;\n",
              "  }\n",
              "\n",
              "  .colab-df-spinner {\n",
              "    border: 2px solid var(--fill-color);\n",
              "    border-color: transparent;\n",
              "    border-bottom-color: var(--fill-color);\n",
              "    animation:\n",
              "      spin 1s steps(1) infinite;\n",
              "  }\n",
              "\n",
              "  @keyframes spin {\n",
              "    0% {\n",
              "      border-color: transparent;\n",
              "      border-bottom-color: var(--fill-color);\n",
              "      border-left-color: var(--fill-color);\n",
              "    }\n",
              "    20% {\n",
              "      border-color: transparent;\n",
              "      border-left-color: var(--fill-color);\n",
              "      border-top-color: var(--fill-color);\n",
              "    }\n",
              "    30% {\n",
              "      border-color: transparent;\n",
              "      border-left-color: var(--fill-color);\n",
              "      border-top-color: var(--fill-color);\n",
              "      border-right-color: var(--fill-color);\n",
              "    }\n",
              "    40% {\n",
              "      border-color: transparent;\n",
              "      border-right-color: var(--fill-color);\n",
              "      border-top-color: var(--fill-color);\n",
              "    }\n",
              "    60% {\n",
              "      border-color: transparent;\n",
              "      border-right-color: var(--fill-color);\n",
              "    }\n",
              "    80% {\n",
              "      border-color: transparent;\n",
              "      border-right-color: var(--fill-color);\n",
              "      border-bottom-color: var(--fill-color);\n",
              "    }\n",
              "    90% {\n",
              "      border-color: transparent;\n",
              "      border-bottom-color: var(--fill-color);\n",
              "    }\n",
              "  }\n",
              "</style>\n",
              "\n",
              "  <script>\n",
              "    async function quickchart(key) {\n",
              "      const quickchartButtonEl =\n",
              "        document.querySelector('#' + key + ' button');\n",
              "      quickchartButtonEl.disabled = true;  // To prevent multiple clicks.\n",
              "      quickchartButtonEl.classList.add('colab-df-spinner');\n",
              "      try {\n",
              "        const charts = await google.colab.kernel.invokeFunction(\n",
              "            'suggestCharts', [key], {});\n",
              "      } catch (error) {\n",
              "        console.error('Error during call to suggestCharts:', error);\n",
              "      }\n",
              "      quickchartButtonEl.classList.remove('colab-df-spinner');\n",
              "      quickchartButtonEl.classList.add('colab-df-quickchart-complete');\n",
              "    }\n",
              "    (() => {\n",
              "      let quickchartButtonEl =\n",
              "        document.querySelector('#df-e852d2e0-12e4-4201-b4d2-3d47e0da2d1e button');\n",
              "      quickchartButtonEl.style.display =\n",
              "        google.colab.kernel.accessAllowed ? 'block' : 'none';\n",
              "    })();\n",
              "  </script>\n",
              "</div>\n",
              "    </div>\n",
              "  </div>\n"
            ]
          },
          "metadata": {},
          "execution_count": 5
        }
      ]
    },
    {
      "cell_type": "code",
      "source": [
        "# Membuat Subset (Filter) Dataset untuk \"Mata Pelajaran\" = \"Pemrograman Python\" saja\n",
        "data_df = data_df[data_df[\"Mata Pelajaran\"] == \"Pemrograman Python\"]"
      ],
      "metadata": {
        "id": "4BImuAEnaZO1"
      },
      "execution_count": null,
      "outputs": []
    },
    {
      "cell_type": "code",
      "source": [
        "# Menampilkan Statistik (Frekuensi) dari Variabel \"Jenis Kelamin\" pada Dataset Sinubi\n",
        "data_df['Jenis Kelamin'].value_counts()"
      ],
      "metadata": {
        "colab": {
          "base_uri": "https://localhost:8080/"
        },
        "id": "3pifD2gc011t",
        "outputId": "818f2ea4-c6c7-40d5-944e-a39e5f0125a6"
      },
      "execution_count": null,
      "outputs": [
        {
          "output_type": "execute_result",
          "data": {
            "text/plain": [
              "Pria      17\n",
              "Wanita    13\n",
              "Name: Jenis Kelamin, dtype: int64"
            ]
          },
          "metadata": {},
          "execution_count": 7
        }
      ]
    },
    {
      "cell_type": "code",
      "source": [
        "# Menampilkan Statistik (Frekuensi) dari Variabel \"Lulus\" pada Dataset Sinubi\n",
        "data_df['Lulus'].value_counts()"
      ],
      "metadata": {
        "colab": {
          "base_uri": "https://localhost:8080/"
        },
        "id": "SaiSsgVkgZjf",
        "outputId": "254dd3fb-da59-41f5-a6e6-533f13db5d63"
      },
      "execution_count": null,
      "outputs": [
        {
          "output_type": "execute_result",
          "data": {
            "text/plain": [
              "Lulus          17\n",
              "Tidak Lulus    13\n",
              "Name: Lulus, dtype: int64"
            ]
          },
          "metadata": {},
          "execution_count": 8
        }
      ]
    },
    {
      "cell_type": "code",
      "source": [
        "# Contingency Table untuk Variabel \"Jenis Kelamin\" dan \"Lulus\"\n",
        "pd.crosstab(data_df['Lulus'], data_df['Jenis Kelamin'])"
      ],
      "metadata": {
        "colab": {
          "base_uri": "https://localhost:8080/",
          "height": 143
        },
        "id": "Z-0CVMW0gmha",
        "outputId": "756e0833-180e-4dc6-a414-a0703903a8c5"
      },
      "execution_count": null,
      "outputs": [
        {
          "output_type": "execute_result",
          "data": {
            "text/plain": [
              "Jenis Kelamin  Pria  Wanita\n",
              "Lulus                      \n",
              "Lulus            10       7\n",
              "Tidak Lulus       7       6"
            ],
            "text/html": [
              "\n",
              "  <div id=\"df-a1f4f672-2ff3-4bdd-b648-3311bba6e40c\" class=\"colab-df-container\">\n",
              "    <div>\n",
              "<style scoped>\n",
              "    .dataframe tbody tr th:only-of-type {\n",
              "        vertical-align: middle;\n",
              "    }\n",
              "\n",
              "    .dataframe tbody tr th {\n",
              "        vertical-align: top;\n",
              "    }\n",
              "\n",
              "    .dataframe thead th {\n",
              "        text-align: right;\n",
              "    }\n",
              "</style>\n",
              "<table border=\"1\" class=\"dataframe\">\n",
              "  <thead>\n",
              "    <tr style=\"text-align: right;\">\n",
              "      <th>Jenis Kelamin</th>\n",
              "      <th>Pria</th>\n",
              "      <th>Wanita</th>\n",
              "    </tr>\n",
              "    <tr>\n",
              "      <th>Lulus</th>\n",
              "      <th></th>\n",
              "      <th></th>\n",
              "    </tr>\n",
              "  </thead>\n",
              "  <tbody>\n",
              "    <tr>\n",
              "      <th>Lulus</th>\n",
              "      <td>10</td>\n",
              "      <td>7</td>\n",
              "    </tr>\n",
              "    <tr>\n",
              "      <th>Tidak Lulus</th>\n",
              "      <td>7</td>\n",
              "      <td>6</td>\n",
              "    </tr>\n",
              "  </tbody>\n",
              "</table>\n",
              "</div>\n",
              "    <div class=\"colab-df-buttons\">\n",
              "\n",
              "  <div class=\"colab-df-container\">\n",
              "    <button class=\"colab-df-convert\" onclick=\"convertToInteractive('df-a1f4f672-2ff3-4bdd-b648-3311bba6e40c')\"\n",
              "            title=\"Convert this dataframe to an interactive table.\"\n",
              "            style=\"display:none;\">\n",
              "\n",
              "  <svg xmlns=\"http://www.w3.org/2000/svg\" height=\"24px\" viewBox=\"0 -960 960 960\">\n",
              "    <path d=\"M120-120v-720h720v720H120Zm60-500h600v-160H180v160Zm220 220h160v-160H400v160Zm0 220h160v-160H400v160ZM180-400h160v-160H180v160Zm440 0h160v-160H620v160ZM180-180h160v-160H180v160Zm440 0h160v-160H620v160Z\"/>\n",
              "  </svg>\n",
              "    </button>\n",
              "\n",
              "  <style>\n",
              "    .colab-df-container {\n",
              "      display:flex;\n",
              "      gap: 12px;\n",
              "    }\n",
              "\n",
              "    .colab-df-convert {\n",
              "      background-color: #E8F0FE;\n",
              "      border: none;\n",
              "      border-radius: 50%;\n",
              "      cursor: pointer;\n",
              "      display: none;\n",
              "      fill: #1967D2;\n",
              "      height: 32px;\n",
              "      padding: 0 0 0 0;\n",
              "      width: 32px;\n",
              "    }\n",
              "\n",
              "    .colab-df-convert:hover {\n",
              "      background-color: #E2EBFA;\n",
              "      box-shadow: 0px 1px 2px rgba(60, 64, 67, 0.3), 0px 1px 3px 1px rgba(60, 64, 67, 0.15);\n",
              "      fill: #174EA6;\n",
              "    }\n",
              "\n",
              "    .colab-df-buttons div {\n",
              "      margin-bottom: 4px;\n",
              "    }\n",
              "\n",
              "    [theme=dark] .colab-df-convert {\n",
              "      background-color: #3B4455;\n",
              "      fill: #D2E3FC;\n",
              "    }\n",
              "\n",
              "    [theme=dark] .colab-df-convert:hover {\n",
              "      background-color: #434B5C;\n",
              "      box-shadow: 0px 1px 3px 1px rgba(0, 0, 0, 0.15);\n",
              "      filter: drop-shadow(0px 1px 2px rgba(0, 0, 0, 0.3));\n",
              "      fill: #FFFFFF;\n",
              "    }\n",
              "  </style>\n",
              "\n",
              "    <script>\n",
              "      const buttonEl =\n",
              "        document.querySelector('#df-a1f4f672-2ff3-4bdd-b648-3311bba6e40c button.colab-df-convert');\n",
              "      buttonEl.style.display =\n",
              "        google.colab.kernel.accessAllowed ? 'block' : 'none';\n",
              "\n",
              "      async function convertToInteractive(key) {\n",
              "        const element = document.querySelector('#df-a1f4f672-2ff3-4bdd-b648-3311bba6e40c');\n",
              "        const dataTable =\n",
              "          await google.colab.kernel.invokeFunction('convertToInteractive',\n",
              "                                                    [key], {});\n",
              "        if (!dataTable) return;\n",
              "\n",
              "        const docLinkHtml = 'Like what you see? Visit the ' +\n",
              "          '<a target=\"_blank\" href=https://colab.research.google.com/notebooks/data_table.ipynb>data table notebook</a>'\n",
              "          + ' to learn more about interactive tables.';\n",
              "        element.innerHTML = '';\n",
              "        dataTable['output_type'] = 'display_data';\n",
              "        await google.colab.output.renderOutput(dataTable, element);\n",
              "        const docLink = document.createElement('div');\n",
              "        docLink.innerHTML = docLinkHtml;\n",
              "        element.appendChild(docLink);\n",
              "      }\n",
              "    </script>\n",
              "  </div>\n",
              "\n",
              "\n",
              "<div id=\"df-f4cf1692-6f0a-43ff-9742-461bf074c21c\">\n",
              "  <button class=\"colab-df-quickchart\" onclick=\"quickchart('df-f4cf1692-6f0a-43ff-9742-461bf074c21c')\"\n",
              "            title=\"Suggest charts\"\n",
              "            style=\"display:none;\">\n",
              "\n",
              "<svg xmlns=\"http://www.w3.org/2000/svg\" height=\"24px\"viewBox=\"0 0 24 24\"\n",
              "     width=\"24px\">\n",
              "    <g>\n",
              "        <path d=\"M19 3H5c-1.1 0-2 .9-2 2v14c0 1.1.9 2 2 2h14c1.1 0 2-.9 2-2V5c0-1.1-.9-2-2-2zM9 17H7v-7h2v7zm4 0h-2V7h2v10zm4 0h-2v-4h2v4z\"/>\n",
              "    </g>\n",
              "</svg>\n",
              "  </button>\n",
              "\n",
              "<style>\n",
              "  .colab-df-quickchart {\n",
              "      --bg-color: #E8F0FE;\n",
              "      --fill-color: #1967D2;\n",
              "      --hover-bg-color: #E2EBFA;\n",
              "      --hover-fill-color: #174EA6;\n",
              "      --disabled-fill-color: #AAA;\n",
              "      --disabled-bg-color: #DDD;\n",
              "  }\n",
              "\n",
              "  [theme=dark] .colab-df-quickchart {\n",
              "      --bg-color: #3B4455;\n",
              "      --fill-color: #D2E3FC;\n",
              "      --hover-bg-color: #434B5C;\n",
              "      --hover-fill-color: #FFFFFF;\n",
              "      --disabled-bg-color: #3B4455;\n",
              "      --disabled-fill-color: #666;\n",
              "  }\n",
              "\n",
              "  .colab-df-quickchart {\n",
              "    background-color: var(--bg-color);\n",
              "    border: none;\n",
              "    border-radius: 50%;\n",
              "    cursor: pointer;\n",
              "    display: none;\n",
              "    fill: var(--fill-color);\n",
              "    height: 32px;\n",
              "    padding: 0;\n",
              "    width: 32px;\n",
              "  }\n",
              "\n",
              "  .colab-df-quickchart:hover {\n",
              "    background-color: var(--hover-bg-color);\n",
              "    box-shadow: 0 1px 2px rgba(60, 64, 67, 0.3), 0 1px 3px 1px rgba(60, 64, 67, 0.15);\n",
              "    fill: var(--button-hover-fill-color);\n",
              "  }\n",
              "\n",
              "  .colab-df-quickchart-complete:disabled,\n",
              "  .colab-df-quickchart-complete:disabled:hover {\n",
              "    background-color: var(--disabled-bg-color);\n",
              "    fill: var(--disabled-fill-color);\n",
              "    box-shadow: none;\n",
              "  }\n",
              "\n",
              "  .colab-df-spinner {\n",
              "    border: 2px solid var(--fill-color);\n",
              "    border-color: transparent;\n",
              "    border-bottom-color: var(--fill-color);\n",
              "    animation:\n",
              "      spin 1s steps(1) infinite;\n",
              "  }\n",
              "\n",
              "  @keyframes spin {\n",
              "    0% {\n",
              "      border-color: transparent;\n",
              "      border-bottom-color: var(--fill-color);\n",
              "      border-left-color: var(--fill-color);\n",
              "    }\n",
              "    20% {\n",
              "      border-color: transparent;\n",
              "      border-left-color: var(--fill-color);\n",
              "      border-top-color: var(--fill-color);\n",
              "    }\n",
              "    30% {\n",
              "      border-color: transparent;\n",
              "      border-left-color: var(--fill-color);\n",
              "      border-top-color: var(--fill-color);\n",
              "      border-right-color: var(--fill-color);\n",
              "    }\n",
              "    40% {\n",
              "      border-color: transparent;\n",
              "      border-right-color: var(--fill-color);\n",
              "      border-top-color: var(--fill-color);\n",
              "    }\n",
              "    60% {\n",
              "      border-color: transparent;\n",
              "      border-right-color: var(--fill-color);\n",
              "    }\n",
              "    80% {\n",
              "      border-color: transparent;\n",
              "      border-right-color: var(--fill-color);\n",
              "      border-bottom-color: var(--fill-color);\n",
              "    }\n",
              "    90% {\n",
              "      border-color: transparent;\n",
              "      border-bottom-color: var(--fill-color);\n",
              "    }\n",
              "  }\n",
              "</style>\n",
              "\n",
              "  <script>\n",
              "    async function quickchart(key) {\n",
              "      const quickchartButtonEl =\n",
              "        document.querySelector('#' + key + ' button');\n",
              "      quickchartButtonEl.disabled = true;  // To prevent multiple clicks.\n",
              "      quickchartButtonEl.classList.add('colab-df-spinner');\n",
              "      try {\n",
              "        const charts = await google.colab.kernel.invokeFunction(\n",
              "            'suggestCharts', [key], {});\n",
              "      } catch (error) {\n",
              "        console.error('Error during call to suggestCharts:', error);\n",
              "      }\n",
              "      quickchartButtonEl.classList.remove('colab-df-spinner');\n",
              "      quickchartButtonEl.classList.add('colab-df-quickchart-complete');\n",
              "    }\n",
              "    (() => {\n",
              "      let quickchartButtonEl =\n",
              "        document.querySelector('#df-f4cf1692-6f0a-43ff-9742-461bf074c21c button');\n",
              "      quickchartButtonEl.style.display =\n",
              "        google.colab.kernel.accessAllowed ? 'block' : 'none';\n",
              "    })();\n",
              "  </script>\n",
              "</div>\n",
              "    </div>\n",
              "  </div>\n"
            ]
          },
          "metadata": {},
          "execution_count": 9
        }
      ]
    },
    {
      "cell_type": "code",
      "source": [
        "# Array dari Contingency Table untuk Variabel \"Jenis Kelamin\" dan \"Lulus\"\n",
        "np.array(pd.crosstab(data_df['Lulus'], data_df['Jenis Kelamin']))"
      ],
      "metadata": {
        "colab": {
          "base_uri": "https://localhost:8080/"
        },
        "id": "F01HyUmaxCBq",
        "outputId": "6baf042f-8ccc-4496-b96b-fd67aeb3852b"
      },
      "execution_count": null,
      "outputs": [
        {
          "output_type": "execute_result",
          "data": {
            "text/plain": [
              "array([[10,  7],\n",
              "       [ 7,  6]])"
            ]
          },
          "metadata": {},
          "execution_count": 11
        }
      ]
    },
    {
      "cell_type": "code",
      "source": [
        "# Label Baris\n",
        "pd.crosstab(data_df['Lulus'], data_df['Jenis Kelamin']).index.to_list()"
      ],
      "metadata": {
        "colab": {
          "base_uri": "https://localhost:8080/"
        },
        "id": "2GDc19SsxQ9F",
        "outputId": "4b0f990e-a019-4863-b783-1e6973b2e061"
      },
      "execution_count": null,
      "outputs": [
        {
          "output_type": "execute_result",
          "data": {
            "text/plain": [
              "['Lulus', 'Tidak Lulus']"
            ]
          },
          "metadata": {},
          "execution_count": 13
        }
      ]
    },
    {
      "cell_type": "code",
      "source": [
        "# Label Kolom\n",
        "pd.crosstab(data_df['Lulus'], data_df['Jenis Kelamin']).columns.to_list()"
      ],
      "metadata": {
        "colab": {
          "base_uri": "https://localhost:8080/"
        },
        "id": "q4eToQpNxlc7",
        "outputId": "5503bb98-9d26-417b-9d94-8e184cc69b7e"
      },
      "execution_count": null,
      "outputs": [
        {
          "output_type": "execute_result",
          "data": {
            "text/plain": [
              "['Pria', 'Wanita']"
            ]
          },
          "metadata": {},
          "execution_count": 14
        }
      ]
    },
    {
      "cell_type": "markdown",
      "source": [
        "## *2D HeatMap* dari Array"
      ],
      "metadata": {
        "id": "0Nr1FaFwu1Pg"
      }
    },
    {
      "cell_type": "code",
      "execution_count": null,
      "metadata": {
        "colab": {
          "base_uri": "https://localhost:8080/",
          "height": 333
        },
        "id": "JE1XpTCPtdGj",
        "outputId": "81e34740-ddda-45fe-fafa-9a5dfb65c32c"
      },
      "outputs": [
        {
          "output_type": "display_data",
          "data": {
            "text/plain": [
              "<Figure size 500x300 with 2 Axes>"
            ],
            "image/png": "[encoded data removed]"
          },
          "metadata": {}
        }
      ],
      "source": [
        "# Menyiapkan Data Array dan Label\n",
        "data_array_2d = np.array([[2,  5, 3,  7],\n",
        "                          [3,  2, 5,  2],\n",
        "                          [3, 11, 1, -3],\n",
        "                          [-7, 3, 8,  5]])\n",
        "\n",
        "label_X = [\"A\", \"B\", \"C\", \"D\"]\n",
        "label_Y = [\"K1\", \"K2\", \"K3\", \"K4\"]\n",
        "\n",
        "# Membuat 2D HeatMap\n",
        "fig = plt.figure(figsize = (5,3))                       # Ukuran Gambar (dalam inci)\n",
        "ax = fig.add_subplot()\n",
        "\n",
        "heatmap = plt.imshow(data_array_2d)\n",
        "\n",
        "for i in range(len(label_Y)):                           # Menampilkan Data Array (Looping)\n",
        "    for j in range(len(label_X)):\n",
        "        text = ax.text(j, i,\n",
        "                       data_array_2d[i, j],\n",
        "                       ha=\"center\",\n",
        "                       va=\"center\",\n",
        "                       color=\"black\")                   # Warna Text Nilai Array\n",
        "\n",
        "ax.set_xticks(np.arange(len(label_X)),                  # Label untuk Sumbu X\n",
        "              labels = label_X)\n",
        "ax.set_yticks(np.arange(len(label_Y)),                  # Label untuk Sumbu Y\n",
        "              labels = label_Y)\n",
        "\n",
        "plt.title('2D HeatMap dari Array')                      # Judul Gambar\n",
        "plt.xlabel('X')                                         # Keterangan untuk Sumbu X\n",
        "plt.ylabel('Y')                                         # Keterangan untuk Sumbu Y\n",
        "plt.colorbar(heatmap)                                   # Menampilkan ColorBar\n",
        "plt.show()"
      ]
    },
    {
      "cell_type": "markdown",
      "source": [
        "### Mengubah Warna *2D HeatMap* dengan \"cmap\""
      ],
      "metadata": {
        "id": "ONSJDh-2adbw"
      }
    },
    {
      "cell_type": "code",
      "source": [
        "# Menyiapkan Data Array dan Label\n",
        "data_array_2d = np.array([[2,  5, 3,  7],\n",
        "                          [3,  2, 5,  2],\n",
        "                          [3, 11, 1, -3],\n",
        "                          [-7, 3, 8,  5]])\n",
        "\n",
        "label_X = [\"A\", \"B\", \"C\", \"D\"]\n",
        "label_Y = [\"K1\", \"K2\", \"K3\", \"K4\"]\n",
        "\n",
        "# Membuat 2D HeatMap\n",
        "fig = plt.figure(figsize = (5,3))                       # Ukuran Gambar (dalam inci)\n",
        "ax = fig.add_subplot()\n",
        "\n",
        "heatmap = plt.imshow(data_array_2d,\n",
        "                     cmap = \"RdBu\")                     # Mengubah Warna HeatMap dengan \"cmap\"\n",
        "                                                        # Pilihan \"cmaps\" :\n",
        "                                                        # \"Y1Gn\", \"Blues\", \"cool\", \"coolwarm\"\n",
        "                                                        # \"hot\", \"RdBu\"\n",
        "\n",
        "for i in range(len(label_Y)):                           # Menampilkan Data Array (Looping)\n",
        "    for j in range(len(label_X)):\n",
        "        text = ax.text(j, i,\n",
        "                       data_array_2d[i, j],\n",
        "                       ha=\"center\",\n",
        "                       va=\"center\",\n",
        "                       color=\"black\")                   # Warna Text Nilai Array\n",
        "\n",
        "ax.set_xticks(np.arange(len(label_X)),                  # Label untuk Sumbu X\n",
        "              labels = label_X)\n",
        "ax.set_yticks(np.arange(len(label_Y)),                  # Label untuk Sumbu Y\n",
        "              labels = label_Y)\n",
        "\n",
        "plt.title('2D HeatMap dari Array')                      # Judul Gambar\n",
        "plt.xlabel('X')                                         # Keterangan untuk Sumbu X\n",
        "plt.ylabel('Y')                                         # Keterangan untuk Sumbu Y\n",
        "plt.colorbar(heatmap)                                   # Menampilkan ColorBar\n",
        "plt.show()"
      ],
      "metadata": {
        "colab": {
          "base_uri": "https://localhost:8080/",
          "height": 333
        },
        "id": "zUBhjHDSabGV",
        "outputId": "bf5841e7-4450-477e-e415-ffdfb46cb013"
      },
      "execution_count": null,
      "outputs": [
        {
          "output_type": "display_data",
          "data": {
            "text/plain": [
              "<Figure size 500x300 with 2 Axes>"
            ],
            "image/png": "[encoded data removed]"
          },
          "metadata": {}
        }
      ]
    },
    {
      "cell_type": "markdown",
      "source": [
        "### Mengubah Warna *2D HeatMap* dengan custom \"cmap\" menggunakan \"Color List\""
      ],
      "metadata": {
        "id": "ShRSiA3y34xH"
      }
    },
    {
      "cell_type": "code",
      "source": [
        "# Menyiapkan Data Array dan Label\n",
        "data_array_2d = np.array([[2,  5, 3,  7],\n",
        "                          [3,  2, 5,  2],\n",
        "                          [3, 11, 1, -3],\n",
        "                          [-7, 3, 8,  5]])\n",
        "\n",
        "label_X = [\"A\", \"B\", \"C\", \"D\"]\n",
        "label_Y = [\"K1\", \"K2\", \"K3\", \"K4\"]\n",
        "\n",
        "# Custom cmap\n",
        "colors_list = ['#FF11aa', '#3517FF']\n",
        "cmap_custom = colors.ListedColormap(colors_list)\n",
        "\n",
        "# Membuat 2D HeatMap\n",
        "fig = plt.figure(figsize = (5,3))                       # Ukuran Gambar (dalam inci)\n",
        "ax = fig.add_subplot()\n",
        "\n",
        "heatmap = plt.imshow(data_array_2d,\n",
        "                     cmap = cmap_custom)                # Mengubah Warna HeatMap dengan custom \"cmap\"\n",
        "\n",
        "for i in range(len(label_Y)):                           # Menampilkan Data Array (Looping)\n",
        "    for j in range(len(label_X)):\n",
        "        text = ax.text(j, i,\n",
        "                       data_array_2d[i, j],\n",
        "                       ha=\"center\",\n",
        "                       va=\"center\",\n",
        "                       color=\"white\")                   # Warna Text Nilai Array\n",
        "\n",
        "ax.set_xticks(np.arange(len(label_X)),                  # Label untuk Sumbu X\n",
        "              labels = label_X)\n",
        "ax.set_yticks(np.arange(len(label_Y)),                  # Label untuk Sumbu Y\n",
        "              labels = label_Y)\n",
        "\n",
        "plt.title('2D HeatMap dari Array')                      # Judul Gambar\n",
        "plt.xlabel('X')                                         # Keterangan untuk Sumbu X\n",
        "plt.ylabel('Y')                                         # Keterangan untuk Sumbu Y\n",
        "plt.colorbar(heatmap)                                   # Menampilkan ColorBar\n",
        "plt.show()"
      ],
      "metadata": {
        "colab": {
          "base_uri": "https://localhost:8080/",
          "height": 333
        },
        "id": "QjAo8Fau4BGp",
        "outputId": "4f735139-fd7a-4812-f188-59d9236a44ea"
      },
      "execution_count": null,
      "outputs": [
        {
          "output_type": "display_data",
          "data": {
            "text/plain": [
              "<Figure size 500x300 with 2 Axes>"
            ],
            "image/png": "[encoded data removed]"
          },
          "metadata": {}
        }
      ]
    },
    {
      "cell_type": "markdown",
      "source": [
        "## *2D HeatMap* dari DataFrame"
      ],
      "metadata": {
        "id": "UcwFs83myg3b"
      }
    },
    {
      "cell_type": "code",
      "source": [
        "# Menyiapkan Data Array dan Label\n",
        "data_array_2d = np.array(pd.crosstab(data_df['Lulus'], data_df['Jenis Kelamin']))\n",
        "\n",
        "label_X = pd.crosstab(data_df['Lulus'], data_df['Jenis Kelamin']).columns.to_list()\n",
        "label_Y = pd.crosstab(data_df['Lulus'], data_df['Jenis Kelamin']).index.to_list()\n",
        "\n",
        "# Membuat 2D HeatMap\n",
        "fig = plt.figure(figsize = (5,3))                       # Ukuran Gambar (dalam inci)\n",
        "ax = fig.add_subplot()\n",
        "\n",
        "heatmap = plt.imshow(data_array_2d)\n",
        "\n",
        "for i in range(len(label_Y)):                           # Menampilkan Data Array (Looping)\n",
        "    for j in range(len(label_X)):\n",
        "        text = ax.text(j, i,\n",
        "                       data_array_2d[i, j],\n",
        "                       ha=\"center\",\n",
        "                       va=\"center\",\n",
        "                       color=\"black\")                   # Warna Text Nilai Array\n",
        "\n",
        "ax.set_xticks(np.arange(len(label_X)),                  # Label untuk Sumbu X\n",
        "              labels = label_X)\n",
        "ax.set_yticks(np.arange(len(label_Y)),                  # Label untuk Sumbu Y\n",
        "              labels = label_Y)\n",
        "\n",
        "plt.title('2D HeatMap dari DataFrame')                  # Judul Gambar\n",
        "plt.xlabel('Jenis Kelamin')                             # Keterangan untuk Sumbu X\n",
        "plt.ylabel('Kelulusan')                                 # Keterangan untuk Sumbu Y\n",
        "plt.colorbar(heatmap)                                   # Menampilkan ColorBar\n",
        "plt.show()"
      ],
      "metadata": {
        "colab": {
          "base_uri": "https://localhost:8080/",
          "height": 333
        },
        "id": "ZyrT2X4KmDPU",
        "outputId": "d3f2baab-aaf7-4167-b623-10a662040813"
      },
      "execution_count": null,
      "outputs": [
        {
          "output_type": "display_data",
          "data": {
            "text/plain": [
              "<Figure size 500x300 with 2 Axes>"
            ],
            "image/png": "[encoded data removed]"
          },
          "metadata": {}
        }
      ]
    },
    {
      "cell_type": "markdown",
      "source": [
        "### Mengubah Warna *2D HeatMap* dengan \"cmap\""
      ],
      "metadata": {
        "id": "jQyssLbaao2x"
      }
    },
    {
      "cell_type": "code",
      "source": [
        "# Menyiapkan Data Array dan Label\n",
        "data_array_2d = np.array(pd.crosstab(data_df['Lulus'], data_df['Jenis Kelamin']))\n",
        "\n",
        "label_X = pd.crosstab(data_df['Lulus'], data_df['Jenis Kelamin']).columns.to_list()\n",
        "label_Y = pd.crosstab(data_df['Lulus'], data_df['Jenis Kelamin']).index.to_list()\n",
        "\n",
        "# Membuat 2D HeatMap\n",
        "fig = plt.figure(figsize = (5,3))                       # Ukuran Gambar (dalam inci)\n",
        "ax = fig.add_subplot()\n",
        "\n",
        "heatmap = plt.imshow(data_array_2d,\n",
        "                     cmap = \"RdBu\")                     # Mengubah Warna HeatMap dengan \"cmap\"\n",
        "                                                        # Pilihan \"cmaps\" :\n",
        "                                                        # \"Y1Gn\", \"Blues\", \"cool\", \"coolwarm\"\n",
        "                                                        # \"hot\", \"RdBu\"\n",
        "\n",
        "for i in range(len(label_Y)):                           # Menampilkan Data Array (Looping)\n",
        "    for j in range(len(label_X)):\n",
        "        text = ax.text(j, i,\n",
        "                       data_array_2d[i, j],\n",
        "                       ha=\"center\",\n",
        "                       va=\"center\",\n",
        "                       color=\"black\")                   # Warna Text Nilai Array\n",
        "\n",
        "ax.set_xticks(np.arange(len(label_X)),                  # Label untuk Sumbu X\n",
        "              labels = label_X)\n",
        "ax.set_yticks(np.arange(len(label_Y)),                  # Label untuk Sumbu Y\n",
        "              labels = label_Y)\n",
        "\n",
        "plt.title('2D HeatMap dari DataFrame')                  # Judul Gambar\n",
        "plt.xlabel('Jenis Kelamin')                             # Keterangan untuk Sumbu X\n",
        "plt.ylabel('Kelulusan')                                 # Keterangan untuk Sumbu Y\n",
        "plt.colorbar(heatmap)                                   # Menampilkan ColorBar\n",
        "plt.show()"
      ],
      "metadata": {
        "colab": {
          "base_uri": "https://localhost:8080/",
          "height": 333
        },
        "id": "YTtpWkMnaqwT",
        "outputId": "d7452bbb-cca5-43ab-e39e-495ede584d08"
      },
      "execution_count": null,
      "outputs": [
        {
          "output_type": "display_data",
          "data": {
            "text/plain": [
              "<Figure size 500x300 with 2 Axes>"
            ],
            "image/png": "[encoded data removed]"
          },
          "metadata": {}
        }
      ]
    },
    {
      "cell_type": "markdown",
      "source": [
        "### Mengubah Warna *2D HeatMap* dengan custom \"cmap\" menggunakan \"Color List\""
      ],
      "metadata": {
        "id": "VsbQ29aL5Xpi"
      }
    },
    {
      "cell_type": "code",
      "source": [
        "# Menyiapkan Data Array dan Label\n",
        "data_array_2d = np.array(pd.crosstab(data_df['Lulus'], data_df['Jenis Kelamin']))\n",
        "\n",
        "label_X = pd.crosstab(data_df['Lulus'], data_df['Jenis Kelamin']).columns.to_list()\n",
        "label_Y = pd.crosstab(data_df['Lulus'], data_df['Jenis Kelamin']).index.to_list()\n",
        "\n",
        "# Custom cmap\n",
        "colors_list = ['#FF11aa', '#3517FF']\n",
        "cmap_custom = colors.ListedColormap(colors_list)\n",
        "\n",
        "# Membuat 2D HeatMap\n",
        "fig = plt.figure(figsize = (5,3))                       # Ukuran Gambar (dalam inci)\n",
        "ax = fig.add_subplot()\n",
        "\n",
        "heatmap = plt.imshow(data_array_2d,\n",
        "                     cmap = cmap_custom)                # Mengubah Warna HeatMap dengan \"cmap\"\n",
        "\n",
        "for i in range(len(label_Y)):                           # Menampilkan Data Array (Looping)\n",
        "    for j in range(len(label_X)):\n",
        "        text = ax.text(j, i,\n",
        "                       data_array_2d[i, j],\n",
        "                       ha=\"center\",\n",
        "                       va=\"center\",\n",
        "                       color=\"white\")                   # Warna Text Nilai Array\n",
        "\n",
        "ax.set_xticks(np.arange(len(label_X)),                  # Label untuk Sumbu X\n",
        "              labels = label_X)\n",
        "ax.set_yticks(np.arange(len(label_Y)),                  # Label untuk Sumbu Y\n",
        "              labels = label_Y)\n",
        "\n",
        "plt.title('2D HeatMap dari DataFrame')                  # Judul Gambar\n",
        "plt.xlabel('Jenis Kelamin')                             # Keterangan untuk Sumbu X\n",
        "plt.ylabel('Kelulusan')                                 # Keterangan untuk Sumbu Y\n",
        "plt.colorbar(heatmap)                                   # Menampilkan ColorBar\n",
        "plt.show()"
      ],
      "metadata": {
        "colab": {
          "base_uri": "https://localhost:8080/",
          "height": 333
        },
        "id": "7L7FpJA45ZVs",
        "outputId": "9d566f46-d18b-4f5c-af87-7e8c23265b02"
      },
      "execution_count": null,
      "outputs": [
        {
          "output_type": "display_data",
          "data": {
            "text/plain": [
              "<Figure size 500x300 with 2 Axes>"
            ],
            "image/png": "[encoded data removed]"
          },
          "metadata": {}
        }
      ]
    },
    {
      "cell_type": "markdown",
      "source": [
        "# Referensi Eksternal\n",
        "\n",
        "*   https://matplotlib.org/stable/gallery/images_contours_and_fields/image_annotated_heatmap.html\n",
        "*   https://www.geeksforgeeks.org/how-to-draw-2d-heatmap-using-matplotlib-in-python/\n",
        "*   https://python-charts.com/correlation/heatmap-matplotlib/\n",
        "*   https://medium.com/@codingInformer/how-to-create-heatmaps-using-matplotlib-pyplot-db9ff94d25e8\n",
        "*   https://datavizpyr.com/heatmap-with-matplotlib-in-python/\n",
        "*   https://www.pythonpool.com/matplotlib-heatmap/\n",
        "*   https://www.boardinfinity.com/blog/drawing-a-2-d-heatmap-in-python-using-matplotlib/\n",
        "*   https://coderslegacy.com/python/plotting-2d-heatmap-matplotlib/\n",
        "*   https://machinelearningknowledge.ai/matplotlib-heatmap-complete-tutorial-for-beginners/\n",
        "*   https://linuxhint.com/matplotlib-heatmap/\n",
        "*   https://pythonspot.com/generate-heatmap-in-matplotlib/\n",
        "*   https://www.tutorialspoint.com/how-to-annotate-a-heatmap-with-text-in-matplotlib\n",
        "*   https://www.tutorialspoint.com/creating-a-heatmap-in-matplotlib-with-pcolor\n",
        "\n"
      ],
      "metadata": {
        "id": "sG_ASLwmuidI"
      }
    }
  ]
}