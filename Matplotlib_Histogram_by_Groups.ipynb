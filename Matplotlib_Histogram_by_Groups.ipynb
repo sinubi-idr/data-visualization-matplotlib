{
  "nbformat": 4,
  "nbformat_minor": 0,
  "metadata": {
    "colab": {
      "provenance": [],
      "toc_visible": true,
      "authorship_tag": "ABX9TyPTjUrivdgqvj1MwKd/fDlt"
    },
    "kernelspec": {
      "name": "python3",
      "display_name": "Python 3"
    },
    "language_info": {
      "name": "python"
    }
  },
  "cells": [
    {
      "cell_type": "markdown",
      "source": [
        "# **Data Visualization - Python - Matplotlib**\n",
        "\n",
        "Histogram by Groups\n",
        "\n",
        "[![Open In Colab](https://colab.research.google.com/assets/colab-badge.svg)](https://colab.research.google.com/drive/1b412jjHlFrfUUzRBFInIDUvRdKO_XBEd?usp=sharing)\n",
        "\n",
        "*Oleh : Sinubi*"
      ],
      "metadata": {
        "id": "G99skov9tpQM"
      }
    },
    {
      "cell_type": "markdown",
      "source": [
        "## Persiapan"
      ],
      "metadata": {
        "id": "SVUnmMAAvR42"
      }
    },
    {
      "cell_type": "code",
      "source": [
        "# Import Packages/Libraries yang diperlukan\n",
        "import matplotlib\n",
        "import matplotlib.pyplot as plt\n",
        "import numpy as np\n",
        "import pandas as pd\n",
        "import gdown"
      ],
      "metadata": {
        "id": "gMGUIgiJvU1N"
      },
      "execution_count": 66,
      "outputs": []
    },
    {
      "cell_type": "code",
      "source": [
        "# Menampilkan Versi Packages yang digunakan\n",
        "print(\"Versi Matplotlib : \", matplotlib.__version__)\n",
        "print(\"Versi Numpy      : \", np.__version__)\n",
        "print(\"Versi Pandas     : \", pd.__version__)\n",
        "print(\"Versi Gdown      : \", gdown.__version__)"
      ],
      "metadata": {
        "colab": {
          "base_uri": "https://localhost:8080/"
        },
        "id": "dL21zyPLwJgf",
        "outputId": "3acfa6e2-4d00-4b7b-e677-a0a473ec2c89"
      },
      "execution_count": 67,
      "outputs": [
        {
          "output_type": "stream",
          "name": "stdout",
          "text": [
            "Versi Matplotlib :  3.7.1\n",
            "Versi Numpy      :  1.23.5\n",
            "Versi Pandas     :  1.5.3\n",
            "Versi Gdown      :  4.7.3\n"
          ]
        }
      ]
    },
    {
      "cell_type": "code",
      "source": [
        "# Download Dataset Sinubi\n",
        "gdown.download_folder(\"https://drive.google.com/drive/folders/1d0O3AuXl4z8VSj75v6WWuaxtUWXnmSYB?usp=sharing\")"
      ],
      "metadata": {
        "colab": {
          "base_uri": "https://localhost:8080/"
        },
        "id": "mHnHRY6TvzJ5",
        "outputId": "36d844b8-582a-4211-ef65-9bfd364ff0b3"
      },
      "execution_count": 68,
      "outputs": [
        {
          "output_type": "stream",
          "name": "stderr",
          "text": [
            "Retrieving folder contents\n"
          ]
        },
        {
          "output_type": "stream",
          "name": "stdout",
          "text": [
            "Processing file 1Z1oDLjOAedliOGfI_zRiV9UgqXUC605G Dataset SJ 01.xlsx\n",
            "Processing file 1gme7jjukWjJrfeKG01aBBx8CTS3cHxOu Dataset SJ 02.xlsx\n",
            "Building directory structure completed\n"
          ]
        },
        {
          "output_type": "stream",
          "name": "stderr",
          "text": [
            "Retrieving folder contents completed\n",
            "Building directory structure\n",
            "Downloading...\n",
            "From: https://drive.google.com/uc?id=1Z1oDLjOAedliOGfI_zRiV9UgqXUC605G\n",
            "To: /content/Sinubi's Journey/Dataset SJ 01.xlsx\n",
            "100%|██████████| 12.2k/12.2k [00:00<00:00, 11.4MB/s]\n",
            "Downloading...\n",
            "From: https://drive.google.com/uc?id=1gme7jjukWjJrfeKG01aBBx8CTS3cHxOu\n",
            "To: /content/Sinubi's Journey/Dataset SJ 02.xlsx\n",
            "100%|██████████| 12.2k/12.2k [00:00<00:00, 22.1MB/s]\n",
            "Download completed\n"
          ]
        },
        {
          "output_type": "execute_result",
          "data": {
            "text/plain": [
              "[\"/content/Sinubi's Journey/Dataset SJ 01.xlsx\",\n",
              " \"/content/Sinubi's Journey/Dataset SJ 02.xlsx\"]"
            ]
          },
          "metadata": {},
          "execution_count": 68
        }
      ]
    },
    {
      "cell_type": "code",
      "source": [
        "# Import Dataset Sinubi\n",
        "nama_file = \"./Sinubi's Journey/Dataset SJ 01.xlsx\"\n",
        "\n",
        "data_df = pd.read_excel(nama_file, sheet_name='data')"
      ],
      "metadata": {
        "id": "-mnT2MgXwB9X"
      },
      "execution_count": 69,
      "outputs": []
    },
    {
      "cell_type": "code",
      "source": [
        "# Menampilkan Beberapa Data Awal pada Dataset Sinubi\n",
        "data_df.head()"
      ],
      "metadata": {
        "colab": {
          "base_uri": "https://localhost:8080/",
          "height": 206
        },
        "id": "bKvAF0hUzU3F",
        "outputId": "d50e5f87-63eb-4496-ba19-811f090b0f5b"
      },
      "execution_count": 70,
      "outputs": [
        {
          "output_type": "execute_result",
          "data": {
            "text/plain": [
              "  Nomor Induk    Nama Jenis Kelamin      Mata Pelajaran Akses Internet  \\\n",
              "0     DS23001  Sinubi          Pria  Pemrograman Python            Ada   \n",
              "1     DS23002    Budi          Pria  Pemrograman Python            Ada   \n",
              "2     DS23003     Ayu        Wanita  Pemrograman Python            Ada   \n",
              "3     DS23004    Tono          Pria    Machine Learning            Ada   \n",
              "4     DS23005   Putri        Wanita    Machine Learning            Ada   \n",
              "\n",
              "   Waktu Belajar  Nilai  Lulus  \n",
              "0            8.0     85  Lulus  \n",
              "1            7.5     80  Lulus  \n",
              "2            8.5     90  Lulus  \n",
              "3            8.2     88  Lulus  \n",
              "4            7.7     83  Lulus  "
            ],
            "text/html": [
              "\n",
              "  <div id=\"df-5693cad0-eb58-48d3-ae8b-dba81a64b71b\" class=\"colab-df-container\">\n",
              "    <div>\n",
              "<style scoped>\n",
              "    .dataframe tbody tr th:only-of-type {\n",
              "        vertical-align: middle;\n",
              "    }\n",
              "\n",
              "    .dataframe tbody tr th {\n",
              "        vertical-align: top;\n",
              "    }\n",
              "\n",
              "    .dataframe thead th {\n",
              "        text-align: right;\n",
              "    }\n",
              "</style>\n",
              "<table border=\"1\" class=\"dataframe\">\n",
              "  <thead>\n",
              "    <tr style=\"text-align: right;\">\n",
              "      <th></th>\n",
              "      <th>Nomor Induk</th>\n",
              "      <th>Nama</th>\n",
              "      <th>Jenis Kelamin</th>\n",
              "      <th>Mata Pelajaran</th>\n",
              "      <th>Akses Internet</th>\n",
              "      <th>Waktu Belajar</th>\n",
              "      <th>Nilai</th>\n",
              "      <th>Lulus</th>\n",
              "    </tr>\n",
              "  </thead>\n",
              "  <tbody>\n",
              "    <tr>\n",
              "      <th>0</th>\n",
              "      <td>DS23001</td>\n",
              "      <td>Sinubi</td>\n",
              "      <td>Pria</td>\n",
              "      <td>Pemrograman Python</td>\n",
              "      <td>Ada</td>\n",
              "      <td>8.0</td>\n",
              "      <td>85</td>\n",
              "      <td>Lulus</td>\n",
              "    </tr>\n",
              "    <tr>\n",
              "      <th>1</th>\n",
              "      <td>DS23002</td>\n",
              "      <td>Budi</td>\n",
              "      <td>Pria</td>\n",
              "      <td>Pemrograman Python</td>\n",
              "      <td>Ada</td>\n",
              "      <td>7.5</td>\n",
              "      <td>80</td>\n",
              "      <td>Lulus</td>\n",
              "    </tr>\n",
              "    <tr>\n",
              "      <th>2</th>\n",
              "      <td>DS23003</td>\n",
              "      <td>Ayu</td>\n",
              "      <td>Wanita</td>\n",
              "      <td>Pemrograman Python</td>\n",
              "      <td>Ada</td>\n",
              "      <td>8.5</td>\n",
              "      <td>90</td>\n",
              "      <td>Lulus</td>\n",
              "    </tr>\n",
              "    <tr>\n",
              "      <th>3</th>\n",
              "      <td>DS23004</td>\n",
              "      <td>Tono</td>\n",
              "      <td>Pria</td>\n",
              "      <td>Machine Learning</td>\n",
              "      <td>Ada</td>\n",
              "      <td>8.2</td>\n",
              "      <td>88</td>\n",
              "      <td>Lulus</td>\n",
              "    </tr>\n",
              "    <tr>\n",
              "      <th>4</th>\n",
              "      <td>DS23005</td>\n",
              "      <td>Putri</td>\n",
              "      <td>Wanita</td>\n",
              "      <td>Machine Learning</td>\n",
              "      <td>Ada</td>\n",
              "      <td>7.7</td>\n",
              "      <td>83</td>\n",
              "      <td>Lulus</td>\n",
              "    </tr>\n",
              "  </tbody>\n",
              "</table>\n",
              "</div>\n",
              "    <div class=\"colab-df-buttons\">\n",
              "\n",
              "  <div class=\"colab-df-container\">\n",
              "    <button class=\"colab-df-convert\" onclick=\"convertToInteractive('df-5693cad0-eb58-48d3-ae8b-dba81a64b71b')\"\n",
              "            title=\"Convert this dataframe to an interactive table.\"\n",
              "            style=\"display:none;\">\n",
              "\n",
              "  <svg xmlns=\"http://www.w3.org/2000/svg\" height=\"24px\" viewBox=\"0 -960 960 960\">\n",
              "    <path d=\"M120-120v-720h720v720H120Zm60-500h600v-160H180v160Zm220 220h160v-160H400v160Zm0 220h160v-160H400v160ZM180-400h160v-160H180v160Zm440 0h160v-160H620v160ZM180-180h160v-160H180v160Zm440 0h160v-160H620v160Z\"/>\n",
              "  </svg>\n",
              "    </button>\n",
              "\n",
              "  <style>\n",
              "    .colab-df-container {\n",
              "      display:flex;\n",
              "      gap: 12px;\n",
              "    }\n",
              "\n",
              "    .colab-df-convert {\n",
              "      background-color: #E8F0FE;\n",
              "      border: none;\n",
              "      border-radius: 50%;\n",
              "      cursor: pointer;\n",
              "      display: none;\n",
              "      fill: #1967D2;\n",
              "      height: 32px;\n",
              "      padding: 0 0 0 0;\n",
              "      width: 32px;\n",
              "    }\n",
              "\n",
              "    .colab-df-convert:hover {\n",
              "      background-color: #E2EBFA;\n",
              "      box-shadow: 0px 1px 2px rgba(60, 64, 67, 0.3), 0px 1px 3px 1px rgba(60, 64, 67, 0.15);\n",
              "      fill: #174EA6;\n",
              "    }\n",
              "\n",
              "    .colab-df-buttons div {\n",
              "      margin-bottom: 4px;\n",
              "    }\n",
              "\n",
              "    [theme=dark] .colab-df-convert {\n",
              "      background-color: #3B4455;\n",
              "      fill: #D2E3FC;\n",
              "    }\n",
              "\n",
              "    [theme=dark] .colab-df-convert:hover {\n",
              "      background-color: #434B5C;\n",
              "      box-shadow: 0px 1px 3px 1px rgba(0, 0, 0, 0.15);\n",
              "      filter: drop-shadow(0px 1px 2px rgba(0, 0, 0, 0.3));\n",
              "      fill: #FFFFFF;\n",
              "    }\n",
              "  </style>\n",
              "\n",
              "    <script>\n",
              "      const buttonEl =\n",
              "        document.querySelector('#df-5693cad0-eb58-48d3-ae8b-dba81a64b71b button.colab-df-convert');\n",
              "      buttonEl.style.display =\n",
              "        google.colab.kernel.accessAllowed ? 'block' : 'none';\n",
              "\n",
              "      async function convertToInteractive(key) {\n",
              "        const element = document.querySelector('#df-5693cad0-eb58-48d3-ae8b-dba81a64b71b');\n",
              "        const dataTable =\n",
              "          await google.colab.kernel.invokeFunction('convertToInteractive',\n",
              "                                                    [key], {});\n",
              "        if (!dataTable) return;\n",
              "\n",
              "        const docLinkHtml = 'Like what you see? Visit the ' +\n",
              "          '<a target=\"_blank\" href=https://colab.research.google.com/notebooks/data_table.ipynb>data table notebook</a>'\n",
              "          + ' to learn more about interactive tables.';\n",
              "        element.innerHTML = '';\n",
              "        dataTable['output_type'] = 'display_data';\n",
              "        await google.colab.output.renderOutput(dataTable, element);\n",
              "        const docLink = document.createElement('div');\n",
              "        docLink.innerHTML = docLinkHtml;\n",
              "        element.appendChild(docLink);\n",
              "      }\n",
              "    </script>\n",
              "  </div>\n",
              "\n",
              "\n",
              "<div id=\"df-586a5300-0678-4433-b7ff-d5d17d7dad61\">\n",
              "  <button class=\"colab-df-quickchart\" onclick=\"quickchart('df-586a5300-0678-4433-b7ff-d5d17d7dad61')\"\n",
              "            title=\"Suggest charts\"\n",
              "            style=\"display:none;\">\n",
              "\n",
              "<svg xmlns=\"http://www.w3.org/2000/svg\" height=\"24px\"viewBox=\"0 0 24 24\"\n",
              "     width=\"24px\">\n",
              "    <g>\n",
              "        <path d=\"M19 3H5c-1.1 0-2 .9-2 2v14c0 1.1.9 2 2 2h14c1.1 0 2-.9 2-2V5c0-1.1-.9-2-2-2zM9 17H7v-7h2v7zm4 0h-2V7h2v10zm4 0h-2v-4h2v4z\"/>\n",
              "    </g>\n",
              "</svg>\n",
              "  </button>\n",
              "\n",
              "<style>\n",
              "  .colab-df-quickchart {\n",
              "      --bg-color: #E8F0FE;\n",
              "      --fill-color: #1967D2;\n",
              "      --hover-bg-color: #E2EBFA;\n",
              "      --hover-fill-color: #174EA6;\n",
              "      --disabled-fill-color: #AAA;\n",
              "      --disabled-bg-color: #DDD;\n",
              "  }\n",
              "\n",
              "  [theme=dark] .colab-df-quickchart {\n",
              "      --bg-color: #3B4455;\n",
              "      --fill-color: #D2E3FC;\n",
              "      --hover-bg-color: #434B5C;\n",
              "      --hover-fill-color: #FFFFFF;\n",
              "      --disabled-bg-color: #3B4455;\n",
              "      --disabled-fill-color: #666;\n",
              "  }\n",
              "\n",
              "  .colab-df-quickchart {\n",
              "    background-color: var(--bg-color);\n",
              "    border: none;\n",
              "    border-radius: 50%;\n",
              "    cursor: pointer;\n",
              "    display: none;\n",
              "    fill: var(--fill-color);\n",
              "    height: 32px;\n",
              "    padding: 0;\n",
              "    width: 32px;\n",
              "  }\n",
              "\n",
              "  .colab-df-quickchart:hover {\n",
              "    background-color: var(--hover-bg-color);\n",
              "    box-shadow: 0 1px 2px rgba(60, 64, 67, 0.3), 0 1px 3px 1px rgba(60, 64, 67, 0.15);\n",
              "    fill: var(--button-hover-fill-color);\n",
              "  }\n",
              "\n",
              "  .colab-df-quickchart-complete:disabled,\n",
              "  .colab-df-quickchart-complete:disabled:hover {\n",
              "    background-color: var(--disabled-bg-color);\n",
              "    fill: var(--disabled-fill-color);\n",
              "    box-shadow: none;\n",
              "  }\n",
              "\n",
              "  .colab-df-spinner {\n",
              "    border: 2px solid var(--fill-color);\n",
              "    border-color: transparent;\n",
              "    border-bottom-color: var(--fill-color);\n",
              "    animation:\n",
              "      spin 1s steps(1) infinite;\n",
              "  }\n",
              "\n",
              "  @keyframes spin {\n",
              "    0% {\n",
              "      border-color: transparent;\n",
              "      border-bottom-color: var(--fill-color);\n",
              "      border-left-color: var(--fill-color);\n",
              "    }\n",
              "    20% {\n",
              "      border-color: transparent;\n",
              "      border-left-color: var(--fill-color);\n",
              "      border-top-color: var(--fill-color);\n",
              "    }\n",
              "    30% {\n",
              "      border-color: transparent;\n",
              "      border-left-color: var(--fill-color);\n",
              "      border-top-color: var(--fill-color);\n",
              "      border-right-color: var(--fill-color);\n",
              "    }\n",
              "    40% {\n",
              "      border-color: transparent;\n",
              "      border-right-color: var(--fill-color);\n",
              "      border-top-color: var(--fill-color);\n",
              "    }\n",
              "    60% {\n",
              "      border-color: transparent;\n",
              "      border-right-color: var(--fill-color);\n",
              "    }\n",
              "    80% {\n",
              "      border-color: transparent;\n",
              "      border-right-color: var(--fill-color);\n",
              "      border-bottom-color: var(--fill-color);\n",
              "    }\n",
              "    90% {\n",
              "      border-color: transparent;\n",
              "      border-bottom-color: var(--fill-color);\n",
              "    }\n",
              "  }\n",
              "</style>\n",
              "\n",
              "  <script>\n",
              "    async function quickchart(key) {\n",
              "      const quickchartButtonEl =\n",
              "        document.querySelector('#' + key + ' button');\n",
              "      quickchartButtonEl.disabled = true;  // To prevent multiple clicks.\n",
              "      quickchartButtonEl.classList.add('colab-df-spinner');\n",
              "      try {\n",
              "        const charts = await google.colab.kernel.invokeFunction(\n",
              "            'suggestCharts', [key], {});\n",
              "      } catch (error) {\n",
              "        console.error('Error during call to suggestCharts:', error);\n",
              "      }\n",
              "      quickchartButtonEl.classList.remove('colab-df-spinner');\n",
              "      quickchartButtonEl.classList.add('colab-df-quickchart-complete');\n",
              "    }\n",
              "    (() => {\n",
              "      let quickchartButtonEl =\n",
              "        document.querySelector('#df-586a5300-0678-4433-b7ff-d5d17d7dad61 button');\n",
              "      quickchartButtonEl.style.display =\n",
              "        google.colab.kernel.accessAllowed ? 'block' : 'none';\n",
              "    })();\n",
              "  </script>\n",
              "</div>\n",
              "    </div>\n",
              "  </div>\n"
            ]
          },
          "metadata": {},
          "execution_count": 70
        }
      ]
    },
    {
      "cell_type": "code",
      "source": [
        "# Menampilkan Statistik Deskriptif dari Variabel \"Nilai\" pada Dataset Sinubi\n",
        "data_df['Nilai'].describe()"
      ],
      "metadata": {
        "colab": {
          "base_uri": "https://localhost:8080/"
        },
        "id": "3pifD2gc011t",
        "outputId": "d90d695f-9c72-44e3-f03c-65f39d0e39e9"
      },
      "execution_count": 71,
      "outputs": [
        {
          "output_type": "execute_result",
          "data": {
            "text/plain": [
              "count    60.000000\n",
              "mean     63.966667\n",
              "std      19.961800\n",
              "min      23.000000\n",
              "25%      45.750000\n",
              "50%      66.500000\n",
              "75%      81.250000\n",
              "max      92.000000\n",
              "Name: Nilai, dtype: float64"
            ]
          },
          "metadata": {},
          "execution_count": 71
        }
      ]
    },
    {
      "cell_type": "code",
      "source": [
        "# Membuat Subset Data untuk Mata Pelajaran \"Pemrograman Python\"\n",
        "data_df_selected_1 = data_df[data_df['Mata Pelajaran'] == \"Pemrograman Python\"]\n",
        "data_df_selected_1.head()"
      ],
      "metadata": {
        "colab": {
          "base_uri": "https://localhost:8080/",
          "height": 206
        },
        "id": "XOiW-8qkvE-0",
        "outputId": "29743686-97ab-4a8a-cda9-3190b8767f53"
      },
      "execution_count": 72,
      "outputs": [
        {
          "output_type": "execute_result",
          "data": {
            "text/plain": [
              "  Nomor Induk    Nama Jenis Kelamin      Mata Pelajaran Akses Internet  \\\n",
              "0     DS23001  Sinubi          Pria  Pemrograman Python            Ada   \n",
              "1     DS23002    Budi          Pria  Pemrograman Python            Ada   \n",
              "2     DS23003     Ayu        Wanita  Pemrograman Python            Ada   \n",
              "8     DS23004    Tono          Pria  Pemrograman Python            Ada   \n",
              "9     DS23005   Putri        Wanita  Pemrograman Python            Ada   \n",
              "\n",
              "   Waktu Belajar  Nilai  Lulus  \n",
              "0            8.0     85  Lulus  \n",
              "1            7.5     80  Lulus  \n",
              "2            8.5     90  Lulus  \n",
              "8            5.2     90  Lulus  \n",
              "9            8.6     87  Lulus  "
            ],
            "text/html": [
              "\n",
              "  <div id=\"df-1c1e4cce-2429-4072-b797-b220951a979e\" class=\"colab-df-container\">\n",
              "    <div>\n",
              "<style scoped>\n",
              "    .dataframe tbody tr th:only-of-type {\n",
              "        vertical-align: middle;\n",
              "    }\n",
              "\n",
              "    .dataframe tbody tr th {\n",
              "        vertical-align: top;\n",
              "    }\n",
              "\n",
              "    .dataframe thead th {\n",
              "        text-align: right;\n",
              "    }\n",
              "</style>\n",
              "<table border=\"1\" class=\"dataframe\">\n",
              "  <thead>\n",
              "    <tr style=\"text-align: right;\">\n",
              "      <th></th>\n",
              "      <th>Nomor Induk</th>\n",
              "      <th>Nama</th>\n",
              "      <th>Jenis Kelamin</th>\n",
              "      <th>Mata Pelajaran</th>\n",
              "      <th>Akses Internet</th>\n",
              "      <th>Waktu Belajar</th>\n",
              "      <th>Nilai</th>\n",
              "      <th>Lulus</th>\n",
              "    </tr>\n",
              "  </thead>\n",
              "  <tbody>\n",
              "    <tr>\n",
              "      <th>0</th>\n",
              "      <td>DS23001</td>\n",
              "      <td>Sinubi</td>\n",
              "      <td>Pria</td>\n",
              "      <td>Pemrograman Python</td>\n",
              "      <td>Ada</td>\n",
              "      <td>8.0</td>\n",
              "      <td>85</td>\n",
              "      <td>Lulus</td>\n",
              "    </tr>\n",
              "    <tr>\n",
              "      <th>1</th>\n",
              "      <td>DS23002</td>\n",
              "      <td>Budi</td>\n",
              "      <td>Pria</td>\n",
              "      <td>Pemrograman Python</td>\n",
              "      <td>Ada</td>\n",
              "      <td>7.5</td>\n",
              "      <td>80</td>\n",
              "      <td>Lulus</td>\n",
              "    </tr>\n",
              "    <tr>\n",
              "      <th>2</th>\n",
              "      <td>DS23003</td>\n",
              "      <td>Ayu</td>\n",
              "      <td>Wanita</td>\n",
              "      <td>Pemrograman Python</td>\n",
              "      <td>Ada</td>\n",
              "      <td>8.5</td>\n",
              "      <td>90</td>\n",
              "      <td>Lulus</td>\n",
              "    </tr>\n",
              "    <tr>\n",
              "      <th>8</th>\n",
              "      <td>DS23004</td>\n",
              "      <td>Tono</td>\n",
              "      <td>Pria</td>\n",
              "      <td>Pemrograman Python</td>\n",
              "      <td>Ada</td>\n",
              "      <td>5.2</td>\n",
              "      <td>90</td>\n",
              "      <td>Lulus</td>\n",
              "    </tr>\n",
              "    <tr>\n",
              "      <th>9</th>\n",
              "      <td>DS23005</td>\n",
              "      <td>Putri</td>\n",
              "      <td>Wanita</td>\n",
              "      <td>Pemrograman Python</td>\n",
              "      <td>Ada</td>\n",
              "      <td>8.6</td>\n",
              "      <td>87</td>\n",
              "      <td>Lulus</td>\n",
              "    </tr>\n",
              "  </tbody>\n",
              "</table>\n",
              "</div>\n",
              "    <div class=\"colab-df-buttons\">\n",
              "\n",
              "  <div class=\"colab-df-container\">\n",
              "    <button class=\"colab-df-convert\" onclick=\"convertToInteractive('df-1c1e4cce-2429-4072-b797-b220951a979e')\"\n",
              "            title=\"Convert this dataframe to an interactive table.\"\n",
              "            style=\"display:none;\">\n",
              "\n",
              "  <svg xmlns=\"http://www.w3.org/2000/svg\" height=\"24px\" viewBox=\"0 -960 960 960\">\n",
              "    <path d=\"M120-120v-720h720v720H120Zm60-500h600v-160H180v160Zm220 220h160v-160H400v160Zm0 220h160v-160H400v160ZM180-400h160v-160H180v160Zm440 0h160v-160H620v160ZM180-180h160v-160H180v160Zm440 0h160v-160H620v160Z\"/>\n",
              "  </svg>\n",
              "    </button>\n",
              "\n",
              "  <style>\n",
              "    .colab-df-container {\n",
              "      display:flex;\n",
              "      gap: 12px;\n",
              "    }\n",
              "\n",
              "    .colab-df-convert {\n",
              "      background-color: #E8F0FE;\n",
              "      border: none;\n",
              "      border-radius: 50%;\n",
              "      cursor: pointer;\n",
              "      display: none;\n",
              "      fill: #1967D2;\n",
              "      height: 32px;\n",
              "      padding: 0 0 0 0;\n",
              "      width: 32px;\n",
              "    }\n",
              "\n",
              "    .colab-df-convert:hover {\n",
              "      background-color: #E2EBFA;\n",
              "      box-shadow: 0px 1px 2px rgba(60, 64, 67, 0.3), 0px 1px 3px 1px rgba(60, 64, 67, 0.15);\n",
              "      fill: #174EA6;\n",
              "    }\n",
              "\n",
              "    .colab-df-buttons div {\n",
              "      margin-bottom: 4px;\n",
              "    }\n",
              "\n",
              "    [theme=dark] .colab-df-convert {\n",
              "      background-color: #3B4455;\n",
              "      fill: #D2E3FC;\n",
              "    }\n",
              "\n",
              "    [theme=dark] .colab-df-convert:hover {\n",
              "      background-color: #434B5C;\n",
              "      box-shadow: 0px 1px 3px 1px rgba(0, 0, 0, 0.15);\n",
              "      filter: drop-shadow(0px 1px 2px rgba(0, 0, 0, 0.3));\n",
              "      fill: #FFFFFF;\n",
              "    }\n",
              "  </style>\n",
              "\n",
              "    <script>\n",
              "      const buttonEl =\n",
              "        document.querySelector('#df-1c1e4cce-2429-4072-b797-b220951a979e button.colab-df-convert');\n",
              "      buttonEl.style.display =\n",
              "        google.colab.kernel.accessAllowed ? 'block' : 'none';\n",
              "\n",
              "      async function convertToInteractive(key) {\n",
              "        const element = document.querySelector('#df-1c1e4cce-2429-4072-b797-b220951a979e');\n",
              "        const dataTable =\n",
              "          await google.colab.kernel.invokeFunction('convertToInteractive',\n",
              "                                                    [key], {});\n",
              "        if (!dataTable) return;\n",
              "\n",
              "        const docLinkHtml = 'Like what you see? Visit the ' +\n",
              "          '<a target=\"_blank\" href=https://colab.research.google.com/notebooks/data_table.ipynb>data table notebook</a>'\n",
              "          + ' to learn more about interactive tables.';\n",
              "        element.innerHTML = '';\n",
              "        dataTable['output_type'] = 'display_data';\n",
              "        await google.colab.output.renderOutput(dataTable, element);\n",
              "        const docLink = document.createElement('div');\n",
              "        docLink.innerHTML = docLinkHtml;\n",
              "        element.appendChild(docLink);\n",
              "      }\n",
              "    </script>\n",
              "  </div>\n",
              "\n",
              "\n",
              "<div id=\"df-b6bc4dab-f794-4692-b744-11b0dda20d91\">\n",
              "  <button class=\"colab-df-quickchart\" onclick=\"quickchart('df-b6bc4dab-f794-4692-b744-11b0dda20d91')\"\n",
              "            title=\"Suggest charts\"\n",
              "            style=\"display:none;\">\n",
              "\n",
              "<svg xmlns=\"http://www.w3.org/2000/svg\" height=\"24px\"viewBox=\"0 0 24 24\"\n",
              "     width=\"24px\">\n",
              "    <g>\n",
              "        <path d=\"M19 3H5c-1.1 0-2 .9-2 2v14c0 1.1.9 2 2 2h14c1.1 0 2-.9 2-2V5c0-1.1-.9-2-2-2zM9 17H7v-7h2v7zm4 0h-2V7h2v10zm4 0h-2v-4h2v4z\"/>\n",
              "    </g>\n",
              "</svg>\n",
              "  </button>\n",
              "\n",
              "<style>\n",
              "  .colab-df-quickchart {\n",
              "      --bg-color: #E8F0FE;\n",
              "      --fill-color: #1967D2;\n",
              "      --hover-bg-color: #E2EBFA;\n",
              "      --hover-fill-color: #174EA6;\n",
              "      --disabled-fill-color: #AAA;\n",
              "      --disabled-bg-color: #DDD;\n",
              "  }\n",
              "\n",
              "  [theme=dark] .colab-df-quickchart {\n",
              "      --bg-color: #3B4455;\n",
              "      --fill-color: #D2E3FC;\n",
              "      --hover-bg-color: #434B5C;\n",
              "      --hover-fill-color: #FFFFFF;\n",
              "      --disabled-bg-color: #3B4455;\n",
              "      --disabled-fill-color: #666;\n",
              "  }\n",
              "\n",
              "  .colab-df-quickchart {\n",
              "    background-color: var(--bg-color);\n",
              "    border: none;\n",
              "    border-radius: 50%;\n",
              "    cursor: pointer;\n",
              "    display: none;\n",
              "    fill: var(--fill-color);\n",
              "    height: 32px;\n",
              "    padding: 0;\n",
              "    width: 32px;\n",
              "  }\n",
              "\n",
              "  .colab-df-quickchart:hover {\n",
              "    background-color: var(--hover-bg-color);\n",
              "    box-shadow: 0 1px 2px rgba(60, 64, 67, 0.3), 0 1px 3px 1px rgba(60, 64, 67, 0.15);\n",
              "    fill: var(--button-hover-fill-color);\n",
              "  }\n",
              "\n",
              "  .colab-df-quickchart-complete:disabled,\n",
              "  .colab-df-quickchart-complete:disabled:hover {\n",
              "    background-color: var(--disabled-bg-color);\n",
              "    fill: var(--disabled-fill-color);\n",
              "    box-shadow: none;\n",
              "  }\n",
              "\n",
              "  .colab-df-spinner {\n",
              "    border: 2px solid var(--fill-color);\n",
              "    border-color: transparent;\n",
              "    border-bottom-color: var(--fill-color);\n",
              "    animation:\n",
              "      spin 1s steps(1) infinite;\n",
              "  }\n",
              "\n",
              "  @keyframes spin {\n",
              "    0% {\n",
              "      border-color: transparent;\n",
              "      border-bottom-color: var(--fill-color);\n",
              "      border-left-color: var(--fill-color);\n",
              "    }\n",
              "    20% {\n",
              "      border-color: transparent;\n",
              "      border-left-color: var(--fill-color);\n",
              "      border-top-color: var(--fill-color);\n",
              "    }\n",
              "    30% {\n",
              "      border-color: transparent;\n",
              "      border-left-color: var(--fill-color);\n",
              "      border-top-color: var(--fill-color);\n",
              "      border-right-color: var(--fill-color);\n",
              "    }\n",
              "    40% {\n",
              "      border-color: transparent;\n",
              "      border-right-color: var(--fill-color);\n",
              "      border-top-color: var(--fill-color);\n",
              "    }\n",
              "    60% {\n",
              "      border-color: transparent;\n",
              "      border-right-color: var(--fill-color);\n",
              "    }\n",
              "    80% {\n",
              "      border-color: transparent;\n",
              "      border-right-color: var(--fill-color);\n",
              "      border-bottom-color: var(--fill-color);\n",
              "    }\n",
              "    90% {\n",
              "      border-color: transparent;\n",
              "      border-bottom-color: var(--fill-color);\n",
              "    }\n",
              "  }\n",
              "</style>\n",
              "\n",
              "  <script>\n",
              "    async function quickchart(key) {\n",
              "      const quickchartButtonEl =\n",
              "        document.querySelector('#' + key + ' button');\n",
              "      quickchartButtonEl.disabled = true;  // To prevent multiple clicks.\n",
              "      quickchartButtonEl.classList.add('colab-df-spinner');\n",
              "      try {\n",
              "        const charts = await google.colab.kernel.invokeFunction(\n",
              "            'suggestCharts', [key], {});\n",
              "      } catch (error) {\n",
              "        console.error('Error during call to suggestCharts:', error);\n",
              "      }\n",
              "      quickchartButtonEl.classList.remove('colab-df-spinner');\n",
              "      quickchartButtonEl.classList.add('colab-df-quickchart-complete');\n",
              "    }\n",
              "    (() => {\n",
              "      let quickchartButtonEl =\n",
              "        document.querySelector('#df-b6bc4dab-f794-4692-b744-11b0dda20d91 button');\n",
              "      quickchartButtonEl.style.display =\n",
              "        google.colab.kernel.accessAllowed ? 'block' : 'none';\n",
              "    })();\n",
              "  </script>\n",
              "</div>\n",
              "    </div>\n",
              "  </div>\n"
            ]
          },
          "metadata": {},
          "execution_count": 72
        }
      ]
    },
    {
      "cell_type": "code",
      "source": [
        "# Menampilkan Statistik Deskriptif dari Variabel \"Nilai\"\n",
        "# Subset Data untuk Mata Pelajaran \"Pemrograman Python\"\n",
        "data_df_selected_1['Nilai'].describe()"
      ],
      "metadata": {
        "colab": {
          "base_uri": "https://localhost:8080/"
        },
        "id": "RIP-TBFfvGoq",
        "outputId": "dc77d32f-ff2d-49bb-f0e7-05a39ebf7fac"
      },
      "execution_count": 73,
      "outputs": [
        {
          "output_type": "execute_result",
          "data": {
            "text/plain": [
              "count    30.000000\n",
              "mean     65.066667\n",
              "std      20.326530\n",
              "min      23.000000\n",
              "25%      47.750000\n",
              "50%      69.500000\n",
              "75%      81.750000\n",
              "max      91.000000\n",
              "Name: Nilai, dtype: float64"
            ]
          },
          "metadata": {},
          "execution_count": 73
        }
      ]
    },
    {
      "cell_type": "code",
      "source": [
        "# Membuat Subset Data untuk Mata Pelajaran \"Machine Learning\"\n",
        "data_df_selected_2 = data_df[data_df['Mata Pelajaran'] == \"Machine Learning\"]\n",
        "data_df_selected_2.head()"
      ],
      "metadata": {
        "colab": {
          "base_uri": "https://localhost:8080/",
          "height": 206
        },
        "id": "k6fTQfnSvIY_",
        "outputId": "0c6c37e0-0ba3-41c4-b8f6-2b0ac241dc95"
      },
      "execution_count": 74,
      "outputs": [
        {
          "output_type": "execute_result",
          "data": {
            "text/plain": [
              "  Nomor Induk    Nama Jenis Kelamin    Mata Pelajaran Akses Internet  \\\n",
              "3     DS23004    Tono          Pria  Machine Learning            Ada   \n",
              "4     DS23005   Putri        Wanita  Machine Learning            Ada   \n",
              "5     DS23001  Sinubi          Pria  Machine Learning            Ada   \n",
              "6     DS23002    Budi          Pria  Machine Learning            Ada   \n",
              "7     DS23003     Ayu        Wanita  Machine Learning            Ada   \n",
              "\n",
              "   Waktu Belajar  Nilai  Lulus  \n",
              "3            8.2     88  Lulus  \n",
              "4            7.7     83  Lulus  \n",
              "5            7.6     86  Lulus  \n",
              "6            7.2     84  Lulus  \n",
              "7            8.3     92  Lulus  "
            ],
            "text/html": [
              "\n",
              "  <div id=\"df-26338ddf-94d5-418e-a47e-d14a9cba9926\" class=\"colab-df-container\">\n",
              "    <div>\n",
              "<style scoped>\n",
              "    .dataframe tbody tr th:only-of-type {\n",
              "        vertical-align: middle;\n",
              "    }\n",
              "\n",
              "    .dataframe tbody tr th {\n",
              "        vertical-align: top;\n",
              "    }\n",
              "\n",
              "    .dataframe thead th {\n",
              "        text-align: right;\n",
              "    }\n",
              "</style>\n",
              "<table border=\"1\" class=\"dataframe\">\n",
              "  <thead>\n",
              "    <tr style=\"text-align: right;\">\n",
              "      <th></th>\n",
              "      <th>Nomor Induk</th>\n",
              "      <th>Nama</th>\n",
              "      <th>Jenis Kelamin</th>\n",
              "      <th>Mata Pelajaran</th>\n",
              "      <th>Akses Internet</th>\n",
              "      <th>Waktu Belajar</th>\n",
              "      <th>Nilai</th>\n",
              "      <th>Lulus</th>\n",
              "    </tr>\n",
              "  </thead>\n",
              "  <tbody>\n",
              "    <tr>\n",
              "      <th>3</th>\n",
              "      <td>DS23004</td>\n",
              "      <td>Tono</td>\n",
              "      <td>Pria</td>\n",
              "      <td>Machine Learning</td>\n",
              "      <td>Ada</td>\n",
              "      <td>8.2</td>\n",
              "      <td>88</td>\n",
              "      <td>Lulus</td>\n",
              "    </tr>\n",
              "    <tr>\n",
              "      <th>4</th>\n",
              "      <td>DS23005</td>\n",
              "      <td>Putri</td>\n",
              "      <td>Wanita</td>\n",
              "      <td>Machine Learning</td>\n",
              "      <td>Ada</td>\n",
              "      <td>7.7</td>\n",
              "      <td>83</td>\n",
              "      <td>Lulus</td>\n",
              "    </tr>\n",
              "    <tr>\n",
              "      <th>5</th>\n",
              "      <td>DS23001</td>\n",
              "      <td>Sinubi</td>\n",
              "      <td>Pria</td>\n",
              "      <td>Machine Learning</td>\n",
              "      <td>Ada</td>\n",
              "      <td>7.6</td>\n",
              "      <td>86</td>\n",
              "      <td>Lulus</td>\n",
              "    </tr>\n",
              "    <tr>\n",
              "      <th>6</th>\n",
              "      <td>DS23002</td>\n",
              "      <td>Budi</td>\n",
              "      <td>Pria</td>\n",
              "      <td>Machine Learning</td>\n",
              "      <td>Ada</td>\n",
              "      <td>7.2</td>\n",
              "      <td>84</td>\n",
              "      <td>Lulus</td>\n",
              "    </tr>\n",
              "    <tr>\n",
              "      <th>7</th>\n",
              "      <td>DS23003</td>\n",
              "      <td>Ayu</td>\n",
              "      <td>Wanita</td>\n",
              "      <td>Machine Learning</td>\n",
              "      <td>Ada</td>\n",
              "      <td>8.3</td>\n",
              "      <td>92</td>\n",
              "      <td>Lulus</td>\n",
              "    </tr>\n",
              "  </tbody>\n",
              "</table>\n",
              "</div>\n",
              "    <div class=\"colab-df-buttons\">\n",
              "\n",
              "  <div class=\"colab-df-container\">\n",
              "    <button class=\"colab-df-convert\" onclick=\"convertToInteractive('df-26338ddf-94d5-418e-a47e-d14a9cba9926')\"\n",
              "            title=\"Convert this dataframe to an interactive table.\"\n",
              "            style=\"display:none;\">\n",
              "\n",
              "  <svg xmlns=\"http://www.w3.org/2000/svg\" height=\"24px\" viewBox=\"0 -960 960 960\">\n",
              "    <path d=\"M120-120v-720h720v720H120Zm60-500h600v-160H180v160Zm220 220h160v-160H400v160Zm0 220h160v-160H400v160ZM180-400h160v-160H180v160Zm440 0h160v-160H620v160ZM180-180h160v-160H180v160Zm440 0h160v-160H620v160Z\"/>\n",
              "  </svg>\n",
              "    </button>\n",
              "\n",
              "  <style>\n",
              "    .colab-df-container {\n",
              "      display:flex;\n",
              "      gap: 12px;\n",
              "    }\n",
              "\n",
              "    .colab-df-convert {\n",
              "      background-color: #E8F0FE;\n",
              "      border: none;\n",
              "      border-radius: 50%;\n",
              "      cursor: pointer;\n",
              "      display: none;\n",
              "      fill: #1967D2;\n",
              "      height: 32px;\n",
              "      padding: 0 0 0 0;\n",
              "      width: 32px;\n",
              "    }\n",
              "\n",
              "    .colab-df-convert:hover {\n",
              "      background-color: #E2EBFA;\n",
              "      box-shadow: 0px 1px 2px rgba(60, 64, 67, 0.3), 0px 1px 3px 1px rgba(60, 64, 67, 0.15);\n",
              "      fill: #174EA6;\n",
              "    }\n",
              "\n",
              "    .colab-df-buttons div {\n",
              "      margin-bottom: 4px;\n",
              "    }\n",
              "\n",
              "    [theme=dark] .colab-df-convert {\n",
              "      background-color: #3B4455;\n",
              "      fill: #D2E3FC;\n",
              "    }\n",
              "\n",
              "    [theme=dark] .colab-df-convert:hover {\n",
              "      background-color: #434B5C;\n",
              "      box-shadow: 0px 1px 3px 1px rgba(0, 0, 0, 0.15);\n",
              "      filter: drop-shadow(0px 1px 2px rgba(0, 0, 0, 0.3));\n",
              "      fill: #FFFFFF;\n",
              "    }\n",
              "  </style>\n",
              "\n",
              "    <script>\n",
              "      const buttonEl =\n",
              "        document.querySelector('#df-26338ddf-94d5-418e-a47e-d14a9cba9926 button.colab-df-convert');\n",
              "      buttonEl.style.display =\n",
              "        google.colab.kernel.accessAllowed ? 'block' : 'none';\n",
              "\n",
              "      async function convertToInteractive(key) {\n",
              "        const element = document.querySelector('#df-26338ddf-94d5-418e-a47e-d14a9cba9926');\n",
              "        const dataTable =\n",
              "          await google.colab.kernel.invokeFunction('convertToInteractive',\n",
              "                                                    [key], {});\n",
              "        if (!dataTable) return;\n",
              "\n",
              "        const docLinkHtml = 'Like what you see? Visit the ' +\n",
              "          '<a target=\"_blank\" href=https://colab.research.google.com/notebooks/data_table.ipynb>data table notebook</a>'\n",
              "          + ' to learn more about interactive tables.';\n",
              "        element.innerHTML = '';\n",
              "        dataTable['output_type'] = 'display_data';\n",
              "        await google.colab.output.renderOutput(dataTable, element);\n",
              "        const docLink = document.createElement('div');\n",
              "        docLink.innerHTML = docLinkHtml;\n",
              "        element.appendChild(docLink);\n",
              "      }\n",
              "    </script>\n",
              "  </div>\n",
              "\n",
              "\n",
              "<div id=\"df-2e0e99e5-d67b-4a09-b9fa-f3c0df440343\">\n",
              "  <button class=\"colab-df-quickchart\" onclick=\"quickchart('df-2e0e99e5-d67b-4a09-b9fa-f3c0df440343')\"\n",
              "            title=\"Suggest charts\"\n",
              "            style=\"display:none;\">\n",
              "\n",
              "<svg xmlns=\"http://www.w3.org/2000/svg\" height=\"24px\"viewBox=\"0 0 24 24\"\n",
              "     width=\"24px\">\n",
              "    <g>\n",
              "        <path d=\"M19 3H5c-1.1 0-2 .9-2 2v14c0 1.1.9 2 2 2h14c1.1 0 2-.9 2-2V5c0-1.1-.9-2-2-2zM9 17H7v-7h2v7zm4 0h-2V7h2v10zm4 0h-2v-4h2v4z\"/>\n",
              "    </g>\n",
              "</svg>\n",
              "  </button>\n",
              "\n",
              "<style>\n",
              "  .colab-df-quickchart {\n",
              "      --bg-color: #E8F0FE;\n",
              "      --fill-color: #1967D2;\n",
              "      --hover-bg-color: #E2EBFA;\n",
              "      --hover-fill-color: #174EA6;\n",
              "      --disabled-fill-color: #AAA;\n",
              "      --disabled-bg-color: #DDD;\n",
              "  }\n",
              "\n",
              "  [theme=dark] .colab-df-quickchart {\n",
              "      --bg-color: #3B4455;\n",
              "      --fill-color: #D2E3FC;\n",
              "      --hover-bg-color: #434B5C;\n",
              "      --hover-fill-color: #FFFFFF;\n",
              "      --disabled-bg-color: #3B4455;\n",
              "      --disabled-fill-color: #666;\n",
              "  }\n",
              "\n",
              "  .colab-df-quickchart {\n",
              "    background-color: var(--bg-color);\n",
              "    border: none;\n",
              "    border-radius: 50%;\n",
              "    cursor: pointer;\n",
              "    display: none;\n",
              "    fill: var(--fill-color);\n",
              "    height: 32px;\n",
              "    padding: 0;\n",
              "    width: 32px;\n",
              "  }\n",
              "\n",
              "  .colab-df-quickchart:hover {\n",
              "    background-color: var(--hover-bg-color);\n",
              "    box-shadow: 0 1px 2px rgba(60, 64, 67, 0.3), 0 1px 3px 1px rgba(60, 64, 67, 0.15);\n",
              "    fill: var(--button-hover-fill-color);\n",
              "  }\n",
              "\n",
              "  .colab-df-quickchart-complete:disabled,\n",
              "  .colab-df-quickchart-complete:disabled:hover {\n",
              "    background-color: var(--disabled-bg-color);\n",
              "    fill: var(--disabled-fill-color);\n",
              "    box-shadow: none;\n",
              "  }\n",
              "\n",
              "  .colab-df-spinner {\n",
              "    border: 2px solid var(--fill-color);\n",
              "    border-color: transparent;\n",
              "    border-bottom-color: var(--fill-color);\n",
              "    animation:\n",
              "      spin 1s steps(1) infinite;\n",
              "  }\n",
              "\n",
              "  @keyframes spin {\n",
              "    0% {\n",
              "      border-color: transparent;\n",
              "      border-bottom-color: var(--fill-color);\n",
              "      border-left-color: var(--fill-color);\n",
              "    }\n",
              "    20% {\n",
              "      border-color: transparent;\n",
              "      border-left-color: var(--fill-color);\n",
              "      border-top-color: var(--fill-color);\n",
              "    }\n",
              "    30% {\n",
              "      border-color: transparent;\n",
              "      border-left-color: var(--fill-color);\n",
              "      border-top-color: var(--fill-color);\n",
              "      border-right-color: var(--fill-color);\n",
              "    }\n",
              "    40% {\n",
              "      border-color: transparent;\n",
              "      border-right-color: var(--fill-color);\n",
              "      border-top-color: var(--fill-color);\n",
              "    }\n",
              "    60% {\n",
              "      border-color: transparent;\n",
              "      border-right-color: var(--fill-color);\n",
              "    }\n",
              "    80% {\n",
              "      border-color: transparent;\n",
              "      border-right-color: var(--fill-color);\n",
              "      border-bottom-color: var(--fill-color);\n",
              "    }\n",
              "    90% {\n",
              "      border-color: transparent;\n",
              "      border-bottom-color: var(--fill-color);\n",
              "    }\n",
              "  }\n",
              "</style>\n",
              "\n",
              "  <script>\n",
              "    async function quickchart(key) {\n",
              "      const quickchartButtonEl =\n",
              "        document.querySelector('#' + key + ' button');\n",
              "      quickchartButtonEl.disabled = true;  // To prevent multiple clicks.\n",
              "      quickchartButtonEl.classList.add('colab-df-spinner');\n",
              "      try {\n",
              "        const charts = await google.colab.kernel.invokeFunction(\n",
              "            'suggestCharts', [key], {});\n",
              "      } catch (error) {\n",
              "        console.error('Error during call to suggestCharts:', error);\n",
              "      }\n",
              "      quickchartButtonEl.classList.remove('colab-df-spinner');\n",
              "      quickchartButtonEl.classList.add('colab-df-quickchart-complete');\n",
              "    }\n",
              "    (() => {\n",
              "      let quickchartButtonEl =\n",
              "        document.querySelector('#df-2e0e99e5-d67b-4a09-b9fa-f3c0df440343 button');\n",
              "      quickchartButtonEl.style.display =\n",
              "        google.colab.kernel.accessAllowed ? 'block' : 'none';\n",
              "    })();\n",
              "  </script>\n",
              "</div>\n",
              "    </div>\n",
              "  </div>\n"
            ]
          },
          "metadata": {},
          "execution_count": 74
        }
      ]
    },
    {
      "cell_type": "code",
      "source": [
        "# Menampilkan Statistik Deskriptif dari Variabel \"Nilai\"\n",
        "# Subset Data untuk Mata Pelajaran \"Machine Learning\"\n",
        "data_df_selected_2['Nilai'].describe()"
      ],
      "metadata": {
        "colab": {
          "base_uri": "https://localhost:8080/"
        },
        "id": "XpwBaaoJvKKt",
        "outputId": "20b9316d-ed18-461d-d997-0bdca6e9f702"
      },
      "execution_count": 75,
      "outputs": [
        {
          "output_type": "execute_result",
          "data": {
            "text/plain": [
              "count    30.000000\n",
              "mean     62.866667\n",
              "std      19.875012\n",
              "min      25.000000\n",
              "25%      46.000000\n",
              "50%      62.500000\n",
              "75%      80.500000\n",
              "max      92.000000\n",
              "Name: Nilai, dtype: float64"
            ]
          },
          "metadata": {},
          "execution_count": 75
        }
      ]
    },
    {
      "cell_type": "markdown",
      "source": [
        "## *Histogram by Groups* dari Array"
      ],
      "metadata": {
        "id": "0Nr1FaFwu1Pg"
      }
    },
    {
      "cell_type": "code",
      "execution_count": 76,
      "metadata": {
        "colab": {
          "base_uri": "https://localhost:8080/",
          "height": 333
        },
        "id": "JE1XpTCPtdGj",
        "outputId": "002ef501-2dfd-4e0b-ae4a-85819e889c8c"
      },
      "outputs": [
        {
          "output_type": "display_data",
          "data": {
            "text/plain": [
              "<Figure size 500x300 with 1 Axes>"
            ],
            "image/png": "[encoded data removed]"
          },
          "metadata": {}
        }
      ],
      "source": [
        "# Menyiapkan Data X1 dan X2\n",
        "X1 = np.array([5, 3, 5, 2, 7, 1, 9, 6, 10, 2, 2, 4, 6, 8, 3, 11])\n",
        "X2 = np.array([2, 7, 5, 5, 7, 2, 8, 8, 15, 2, 4, 3, 6, 3, 5, 12, 9, 3, 5, 5, 2, 7])\n",
        "\n",
        "# Membuat Histogram by Groups\n",
        "plt.figure(figsize=(5,3))                    # Ukuran Gambar (dalam inci)\n",
        "\n",
        "plt.hist(X1,                                 # Histogram 1\n",
        "         label = 'X1',\n",
        "         alpha = 0.5)\n",
        "\n",
        "plt.hist(X2,                                 # Histogram 2\n",
        "         label = 'X2',\n",
        "         alpha = 0.5)\n",
        "\n",
        "plt.title('Histogram by Groups dari Array')  # Judul Gambar\n",
        "plt.xlabel('X')                              # Keterangan untuk Sumbu X\n",
        "plt.ylabel('Frekuensi')                      # Keterangan untuk Sumbu Y\n",
        "plt.show()"
      ]
    },
    {
      "cell_type": "markdown",
      "source": [
        "### Mengubah Warna pada *Histogram by Groups*"
      ],
      "metadata": {
        "id": "sGFOt0n-3J5x"
      }
    },
    {
      "cell_type": "code",
      "source": [
        "# Menyiapkan Data X1 dan X2\n",
        "X1 = np.array([5, 3, 5, 2, 7, 1, 9, 6, 10, 2, 2, 4, 6, 8, 3, 11])\n",
        "X2 = np.array([2, 7, 5, 5, 7, 2, 8, 8, 15, 2, 4, 3, 6, 3, 5, 12, 9, 3, 5, 5, 2, 7])\n",
        "\n",
        "# Membuat Histogram by Groups\n",
        "plt.figure(figsize=(5,3))                    # Ukuran Gambar (dalam inci)\n",
        "\n",
        "plt.hist(X1,                                 # Histogram 1\n",
        "         label = 'X1',\n",
        "         alpha = 0.5,\n",
        "         color = 'blue')                     # Mengubah Warna Histogram 1\n",
        "\n",
        "plt.hist(X2,                                 # Histogram 2\n",
        "         label = 'X2',\n",
        "         alpha = 0.5,\n",
        "         color = 'red')                      # Mengubah Warna Histogram 1\n",
        "\n",
        "plt.title('Histogram by Groups dari Array')  # Judul Gambar\n",
        "plt.xlabel('X')                              # Keterangan untuk Sumbu X\n",
        "plt.ylabel('Frekuensi')                      # Keterangan untuk Sumbu Y\n",
        "plt.show()"
      ],
      "metadata": {
        "colab": {
          "base_uri": "https://localhost:8080/",
          "height": 333
        },
        "id": "FVyiUmhD3Mxr",
        "outputId": "6c4abb5c-4f0f-4031-fa00-a20749c0048e"
      },
      "execution_count": 77,
      "outputs": [
        {
          "output_type": "display_data",
          "data": {
            "text/plain": [
              "<Figure size 500x300 with 1 Axes>"
            ],
            "image/png": "[encoded data removed]"
          },
          "metadata": {}
        }
      ]
    },
    {
      "cell_type": "markdown",
      "source": [
        "### Mengubah Banyak *Bin* pada *Histogram by Groups*"
      ],
      "metadata": {
        "id": "2_SM6XvHu8CN"
      }
    },
    {
      "cell_type": "code",
      "source": [
        "# Menyiapkan Data X1 dan X2\n",
        "X1 = np.array([5, 3, 5, 2, 7, 1, 9, 6, 10, 2, 2, 4, 6, 8, 3, 11])\n",
        "X2 = np.array([2, 7, 5, 5, 7, 2, 8, 8, 15, 2, 4, 3, 6, 3, 5, 12, 9, 3, 5, 5, 2, 7])\n",
        "\n",
        "# Membuat Histogram by Groups\n",
        "plt.figure(figsize=(5,3))                    # Ukuran Gambar (dalam inci)\n",
        "\n",
        "plt.hist(X1,\n",
        "         label = 'X1',\n",
        "         alpha = 0.5,\n",
        "         bins = 3)\n",
        "\n",
        "plt.hist(X2,\n",
        "         label = 'X2',\n",
        "         alpha = 0.5,\n",
        "         bins = 3)\n",
        "\n",
        "plt.title('Histogram by Groups dari Array')  # Judul Gambar\n",
        "plt.xlabel('X')                              # Keterangan untuk Sumbu X\n",
        "plt.ylabel('Frekuensi')                      # Keterangan untuk Sumbu Y\n",
        "plt.show()"
      ],
      "metadata": {
        "colab": {
          "base_uri": "https://localhost:8080/",
          "height": 333
        },
        "id": "EZIic0LPu-89",
        "outputId": "5a768f12-951d-4b2f-cc12-faacd21b5f78"
      },
      "execution_count": 78,
      "outputs": [
        {
          "output_type": "display_data",
          "data": {
            "text/plain": [
              "<Figure size 500x300 with 1 Axes>"
            ],
            "image/png": "[encoded data removed]"
          },
          "metadata": {}
        }
      ]
    },
    {
      "cell_type": "markdown",
      "source": [
        "### Mendapatkan Data *Bins* pada *Histogram by Groups*"
      ],
      "metadata": {
        "id": "Zn6uehW2wE_X"
      }
    },
    {
      "cell_type": "code",
      "source": [
        "# Menyiapkan Data X1 dan X2\n",
        "X1 = np.array([5, 3, 5, 2, 7, 1, 9, 6, 10, 2, 2, 4, 6, 8, 3, 11])\n",
        "X2 = np.array([2, 7, 5, 5, 7, 2, 8, 8, 15, 2, 4, 3, 6, 3, 5, 12, 9, 3, 5, 5, 2, 7])\n",
        "\n",
        "# Membuat Histogram by Groups\n",
        "plt.figure(figsize=(5,3))                          # Ukuran Gambar (dalam inci)\n",
        "\n",
        "n_1, bins_1, patches_1 = plt.hist(X1,              # Mendapatkan Data Bins untuk Histogram 1\n",
        "                                  label = 'X1',\n",
        "                                  alpha = 0.5)\n",
        "\n",
        "n_2, bins_2, patches_2 = plt.hist(X2,              # Mendapatkan Data Bins untuk Histogram 2\n",
        "                                  label = 'X2',\n",
        "                                  alpha = 0.5)\n",
        "\n",
        "plt.title('Histogram by Groups dari Array')        # Judul Gambar\n",
        "plt.xlabel('X')                                    # Keterangan untuk Sumbu X\n",
        "plt.ylabel('Frekuensi')                            # Keterangan untuk Sumbu Y\n",
        "plt.show()"
      ],
      "metadata": {
        "colab": {
          "base_uri": "https://localhost:8080/",
          "height": 333
        },
        "id": "ld8ApVhGwGpT",
        "outputId": "2505001d-3feb-4d76-857a-96aca4337ce3"
      },
      "execution_count": 79,
      "outputs": [
        {
          "output_type": "display_data",
          "data": {
            "text/plain": [
              "<Figure size 500x300 with 1 Axes>"
            ],
            "image/png": "[encoded data removed]"
          },
          "metadata": {}
        }
      ]
    },
    {
      "cell_type": "code",
      "source": [
        "# Frekuensi Setiap Bins untuk Histogram 1\n",
        "n_1"
      ],
      "metadata": {
        "colab": {
          "base_uri": "https://localhost:8080/"
        },
        "id": "J3qBrNnzUib2",
        "outputId": "6cf41f4b-573c-46b6-e249-2dc82cf8ea59"
      },
      "execution_count": 80,
      "outputs": [
        {
          "output_type": "execute_result",
          "data": {
            "text/plain": [
              "array([1., 3., 2., 1., 2., 2., 1., 1., 1., 2.])"
            ]
          },
          "metadata": {},
          "execution_count": 80
        }
      ]
    },
    {
      "cell_type": "code",
      "source": [
        "# Batasan Bins untuk Histogram 1\n",
        "bins_1"
      ],
      "metadata": {
        "colab": {
          "base_uri": "https://localhost:8080/"
        },
        "id": "lNVHwioeUe65",
        "outputId": "bb939dc0-e03e-48e7-e0e2-5253afe0be10"
      },
      "execution_count": 81,
      "outputs": [
        {
          "output_type": "execute_result",
          "data": {
            "text/plain": [
              "array([ 1.,  2.,  3.,  4.,  5.,  6.,  7.,  8.,  9., 10., 11.])"
            ]
          },
          "metadata": {},
          "execution_count": 81
        }
      ]
    },
    {
      "cell_type": "code",
      "source": [
        "# Frekuensi Setiap Bins untuk Histogram 2\n",
        "n_2"
      ],
      "metadata": {
        "colab": {
          "base_uri": "https://localhost:8080/"
        },
        "id": "AmFAylwn3yqt",
        "outputId": "4043a9a6-55ac-456a-c9ef-b91d2399f131"
      },
      "execution_count": 82,
      "outputs": [
        {
          "output_type": "execute_result",
          "data": {
            "text/plain": [
              "array([7., 1., 5., 4., 2., 1., 0., 1., 0., 1.])"
            ]
          },
          "metadata": {},
          "execution_count": 82
        }
      ]
    },
    {
      "cell_type": "code",
      "source": [
        "# Batasan Bins untuk Histogram 2\n",
        "bins_2"
      ],
      "metadata": {
        "colab": {
          "base_uri": "https://localhost:8080/"
        },
        "id": "A3gi9qsk3z-P",
        "outputId": "212eac83-df81-4687-c344-6d22c58711f3"
      },
      "execution_count": 83,
      "outputs": [
        {
          "output_type": "execute_result",
          "data": {
            "text/plain": [
              "array([ 2. ,  3.3,  4.6,  5.9,  7.2,  8.5,  9.8, 11.1, 12.4, 13.7, 15. ])"
            ]
          },
          "metadata": {},
          "execution_count": 83
        }
      ]
    },
    {
      "cell_type": "markdown",
      "source": [
        "### Mendefinisikan atau Mengatur Batasan dari *Bins* pada *Histogram by Groups*"
      ],
      "metadata": {
        "id": "rqwgjcnOWYlJ"
      }
    },
    {
      "cell_type": "code",
      "source": [
        "# Menyiapkan Data X1 dan X2\n",
        "X1 = np.array([5, 3, 5, 2, 7, 1, 9, 6, 10, 2, 2, 4, 6, 8, 3, 11])\n",
        "X2 = np.array([2, 7, 5, 5, 7, 2, 8, 8, 15, 2, 4, 3, 6, 3, 5, 12, 9, 3, 5, 5, 2, 7])\n",
        "\n",
        "# Mendefinisikan atau Mengatur Batasan dari Bins\n",
        "batasan_bins = [0, 2, 4, 6, 8, 10, 12]\n",
        "\n",
        "# Membuat Histogram by Groups\n",
        "plt.figure(figsize=(5,3))                              # Ukuran Gambar (dalam inci)\n",
        "\n",
        "n_1, bins_1, patches_1 = plt.hist(X1,                  # Mendapatkan Data Bins untuk Histogram 1\n",
        "                                  label = 'X1',\n",
        "                                  alpha = 0.5,\n",
        "                                  bins = batasan_bins) # Mengatur Batasan Bins untuk Histogram 1\n",
        "\n",
        "n_2, bins_2, patches_2 = plt.hist(X2,                  # Mendapatkan Data Bins untuk Histogram 2\n",
        "                                  label = 'X2',\n",
        "                                  alpha = 0.5,\n",
        "                                  bins = batasan_bins) # Mengatur Batasan Bins untuk Histogram 2\n",
        "\n",
        "plt.title('Histogram by Groups dari Array')            # Judul Gambar\n",
        "plt.xlabel('X')                                        # Keterangan untuk Sumbu X\n",
        "plt.ylabel('Frekuensi')                                # Keterangan untuk Sumbu Y\n",
        "plt.show()"
      ],
      "metadata": {
        "colab": {
          "base_uri": "https://localhost:8080/",
          "height": 333
        },
        "id": "42FI4BJLWxZy",
        "outputId": "44dd5e14-197f-4a02-e721-a1fe44e2889c"
      },
      "execution_count": 84,
      "outputs": [
        {
          "output_type": "display_data",
          "data": {
            "text/plain": [
              "<Figure size 500x300 with 1 Axes>"
            ],
            "image/png": "[encoded data removed]"
          },
          "metadata": {}
        }
      ]
    },
    {
      "cell_type": "code",
      "source": [
        "# Frekuensi Setiap Bins untuk Histogram 1\n",
        "n_1"
      ],
      "metadata": {
        "colab": {
          "base_uri": "https://localhost:8080/"
        },
        "id": "hJnhYWzcXSO0",
        "outputId": "30144202-551b-471b-f044-c9bf5e791bcb"
      },
      "execution_count": 85,
      "outputs": [
        {
          "output_type": "execute_result",
          "data": {
            "text/plain": [
              "array([1., 5., 3., 3., 2., 2.])"
            ]
          },
          "metadata": {},
          "execution_count": 85
        }
      ]
    },
    {
      "cell_type": "code",
      "source": [
        "# Batasan Bins untuk Histogram 1\n",
        "bins_1"
      ],
      "metadata": {
        "colab": {
          "base_uri": "https://localhost:8080/"
        },
        "id": "JqZS3EXsXUWY",
        "outputId": "359045b3-217a-4945-972a-d49fbae7f2ff"
      },
      "execution_count": 86,
      "outputs": [
        {
          "output_type": "execute_result",
          "data": {
            "text/plain": [
              "array([ 0.,  2.,  4.,  6.,  8., 10., 12.])"
            ]
          },
          "metadata": {},
          "execution_count": 86
        }
      ]
    },
    {
      "cell_type": "code",
      "source": [
        "# Frekuensi Setiap Bins untuk Histogram 2\n",
        "n_2"
      ],
      "metadata": {
        "colab": {
          "base_uri": "https://localhost:8080/"
        },
        "id": "Fe4Zz03o43IB",
        "outputId": "85b83cc8-33f2-489c-991d-3a47317dd31c"
      },
      "execution_count": 87,
      "outputs": [
        {
          "output_type": "execute_result",
          "data": {
            "text/plain": [
              "array([0., 7., 6., 4., 3., 1.])"
            ]
          },
          "metadata": {},
          "execution_count": 87
        }
      ]
    },
    {
      "cell_type": "code",
      "source": [
        "# Batasan Bins untuk Histogram 2\n",
        "bins_2"
      ],
      "metadata": {
        "colab": {
          "base_uri": "https://localhost:8080/"
        },
        "id": "QfXfQ_Yg43K8",
        "outputId": "ea7af170-f6df-4b41-ff57-03a6d9149664"
      },
      "execution_count": 88,
      "outputs": [
        {
          "output_type": "execute_result",
          "data": {
            "text/plain": [
              "array([ 0.,  2.,  4.,  6.,  8., 10., 12.])"
            ]
          },
          "metadata": {},
          "execution_count": 88
        }
      ]
    },
    {
      "cell_type": "markdown",
      "source": [
        "### Mengatur Ukuran atau Lebar dari *Bins* pada *Histogram by Groups*"
      ],
      "metadata": {
        "id": "tB3bUQRLXeZH"
      }
    },
    {
      "cell_type": "code",
      "source": [
        "# Menyiapkan Data X1 dan X2\n",
        "X1 = np.array([5, 3, 5, 2, 7, 1, 9, 6, 10, 2, 2, 4, 6, 8, 3, 11])\n",
        "X2 = np.array([2, 7, 5, 5, 7, 2, 8, 8, 15, 2, 4, 3, 6, 3, 5, 12, 9, 3, 5, 5, 2, 7])\n",
        "\n",
        "# Mengatur Lebar dari Bins\n",
        "lebar_bins = 2\n",
        "batasan_bins_1 = np.arange(min(X1), max(X1) + lebar_bins, lebar_bins)\n",
        "batasan_bins_2 = np.arange(min(X2), max(X2) + lebar_bins, lebar_bins)\n",
        "\n",
        "# Membuat Histogram by Groups\n",
        "plt.figure(figsize=(5,3))                                # Ukuran Gambar (dalam inci)\n",
        "\n",
        "n_1, bins_1, patches_1 = plt.hist(X1,                    # Mendapatkan Data Bins untuk Histogram 1\n",
        "                                  label = 'X1',\n",
        "                                  alpha = 0.5,\n",
        "                                  bins = batasan_bins_1) # Mengatur Batasan Bins untuk Histogram 1\n",
        "\n",
        "n_2, bins_2, patches_2 = plt.hist(X2,                    # Mendapatkan Data Bins untuk Histogram 2\n",
        "                                  label = 'X2',\n",
        "                                  alpha = 0.5,\n",
        "                                  bins = batasan_bins_2) # Mengatur Batasan Bins untuk Histogram 2\n",
        "\n",
        "plt.title('Histogram by Groups dari Array')              # Judul Gambar\n",
        "plt.xlabel('X')                                          # Keterangan untuk Sumbu X\n",
        "plt.ylabel('Frekuensi')                                  # Keterangan untuk Sumbu Y\n",
        "plt.show()"
      ],
      "metadata": {
        "colab": {
          "base_uri": "https://localhost:8080/",
          "height": 333
        },
        "id": "iFQosemZXmW6",
        "outputId": "090edae2-e388-46c5-a55b-5ce93975b4a3"
      },
      "execution_count": 89,
      "outputs": [
        {
          "output_type": "display_data",
          "data": {
            "text/plain": [
              "<Figure size 500x300 with 1 Axes>"
            ],
            "image/png": "[encoded data removed]"
          },
          "metadata": {}
        }
      ]
    },
    {
      "cell_type": "code",
      "source": [
        "# Frekuensi Setiap Bins untuk Histogram 1\n",
        "n_1"
      ],
      "metadata": {
        "colab": {
          "base_uri": "https://localhost:8080/"
        },
        "id": "u0CndXohXss5",
        "outputId": "b87cc613-4b9f-4d9e-829e-13f18703465c"
      },
      "execution_count": 90,
      "outputs": [
        {
          "output_type": "execute_result",
          "data": {
            "text/plain": [
              "array([4., 3., 4., 2., 3.])"
            ]
          },
          "metadata": {},
          "execution_count": 90
        }
      ]
    },
    {
      "cell_type": "code",
      "source": [
        "# Batasan Bins untuk Histogram 1\n",
        "bins_1"
      ],
      "metadata": {
        "colab": {
          "base_uri": "https://localhost:8080/"
        },
        "id": "jmL2oPEkXuB8",
        "outputId": "9dcd9a96-0535-44bd-d1dc-883619a8daa5"
      },
      "execution_count": 91,
      "outputs": [
        {
          "output_type": "execute_result",
          "data": {
            "text/plain": [
              "array([ 1.,  3.,  5.,  7.,  9., 11.])"
            ]
          },
          "metadata": {},
          "execution_count": 91
        }
      ]
    },
    {
      "cell_type": "code",
      "source": [
        "# Frekuensi Setiap Bins untuk Histogram 2\n",
        "n_2"
      ],
      "metadata": {
        "colab": {
          "base_uri": "https://localhost:8080/"
        },
        "id": "cPUWW6hz54FC",
        "outputId": "93541ffe-fc04-469e-a43c-f6c10a9e1906"
      },
      "execution_count": 92,
      "outputs": [
        {
          "output_type": "execute_result",
          "data": {
            "text/plain": [
              "array([7., 6., 4., 3., 0., 1., 1.])"
            ]
          },
          "metadata": {},
          "execution_count": 92
        }
      ]
    },
    {
      "cell_type": "code",
      "source": [
        "# Batasan Bins untuk Histogram 2\n",
        "bins_2"
      ],
      "metadata": {
        "colab": {
          "base_uri": "https://localhost:8080/"
        },
        "id": "Ek12T0we55Sv",
        "outputId": "a6d75013-7c0c-471a-829f-511861b86af0"
      },
      "execution_count": 93,
      "outputs": [
        {
          "output_type": "execute_result",
          "data": {
            "text/plain": [
              "array([ 2.,  4.,  6.,  8., 10., 12., 14., 16.])"
            ]
          },
          "metadata": {},
          "execution_count": 93
        }
      ]
    },
    {
      "cell_type": "markdown",
      "source": [
        "## *Histogram by Groups* dari DataFrame"
      ],
      "metadata": {
        "id": "UcwFs83myg3b"
      }
    },
    {
      "cell_type": "code",
      "source": [
        "# Menyiapkan Data X1 dan X2\n",
        "X1 = data_df_selected_1['Nilai']\n",
        "X2 = data_df_selected_2['Nilai']\n",
        "\n",
        "# Membuat Histogram by Groups\n",
        "plt.figure(figsize=(5,3))                    # Ukuran Gambar (dalam inci)\n",
        "\n",
        "plt.hist(X1,                                 # Histogram 1\n",
        "         label = 'X1',\n",
        "         alpha = 0.5)\n",
        "\n",
        "plt.hist(X2,                                 # Histogram 2\n",
        "         label = 'X2',\n",
        "         alpha = 0.5)\n",
        "\n",
        "plt.title('Histogram by Groups dari Array')  # Judul Gambar\n",
        "plt.xlabel('X')                              # Keterangan untuk Sumbu X\n",
        "plt.ylabel('Frekuensi')                      # Keterangan untuk Sumbu Y\n",
        "plt.show()"
      ],
      "metadata": {
        "colab": {
          "base_uri": "https://localhost:8080/",
          "height": 333
        },
        "id": "tissMpWjzI5L",
        "outputId": "ab2ad753-49d5-43ec-c07d-97737e96df97"
      },
      "execution_count": 94,
      "outputs": [
        {
          "output_type": "display_data",
          "data": {
            "text/plain": [
              "<Figure size 500x300 with 1 Axes>"
            ],
            "image/png": "[encoded data removed]"
          },
          "metadata": {}
        }
      ]
    },
    {
      "cell_type": "markdown",
      "source": [
        "### Mengubah Warna pada *Histogram by Groups*"
      ],
      "metadata": {
        "id": "-d_cdncg2UdU"
      }
    },
    {
      "cell_type": "code",
      "source": [
        "# Menyiapkan Data X1 dan X2\n",
        "X1 = data_df_selected_1['Nilai']\n",
        "X2 = data_df_selected_2['Nilai']\n",
        "\n",
        "# Membuat Histogram by Groups\n",
        "plt.figure(figsize=(5,3))                    # Ukuran Gambar (dalam inci)\n",
        "\n",
        "plt.hist(X1,                                 # Histogram 1\n",
        "         label = 'X1',\n",
        "         alpha = 0.5,\n",
        "         color = 'blue')                     # Mengubah Warna Histogram 1\n",
        "\n",
        "plt.hist(X2,                                 # Histogram 2\n",
        "         label = 'X2',\n",
        "         alpha = 0.5,\n",
        "         color = 'red')                      # Mengubah Warna Histogram 1\n",
        "\n",
        "plt.title('Histogram by Groups dari Array')  # Judul Gambar\n",
        "plt.xlabel('X')                              # Keterangan untuk Sumbu X\n",
        "plt.ylabel('Frekuensi')                      # Keterangan untuk Sumbu Y\n",
        "plt.show()"
      ],
      "metadata": {
        "colab": {
          "base_uri": "https://localhost:8080/",
          "height": 333
        },
        "id": "JLM3KmhE_y6v",
        "outputId": "50a945f9-adfb-4220-b526-30798fc49bf9"
      },
      "execution_count": 95,
      "outputs": [
        {
          "output_type": "display_data",
          "data": {
            "text/plain": [
              "<Figure size 500x300 with 1 Axes>"
            ],
            "image/png": "[encoded data removed]"
          },
          "metadata": {}
        }
      ]
    },
    {
      "cell_type": "markdown",
      "source": [
        "### Mengubah Banyak *Bin* pada *Histogram by Groups*"
      ],
      "metadata": {
        "id": "avwmNWBbu_r4"
      }
    },
    {
      "cell_type": "code",
      "source": [
        "# Menyiapkan Data X1 dan X2\n",
        "X1 = data_df_selected_1['Nilai']\n",
        "X2 = data_df_selected_2['Nilai']\n",
        "\n",
        "# Membuat Histogram by Groups\n",
        "plt.figure(figsize=(5,3))                    # Ukuran Gambar (dalam inci)\n",
        "\n",
        "plt.hist(X1,\n",
        "         label = 'X1',\n",
        "         alpha = 0.5,\n",
        "         bins = 5)\n",
        "\n",
        "plt.hist(X2,\n",
        "         label = 'X2',\n",
        "         alpha = 0.5,\n",
        "         bins = 5)\n",
        "\n",
        "plt.title('Histogram by Groups dari Array')  # Judul Gambar\n",
        "plt.xlabel('X')                              # Keterangan untuk Sumbu X\n",
        "plt.ylabel('Frekuensi')                      # Keterangan untuk Sumbu Y\n",
        "plt.show()"
      ],
      "metadata": {
        "colab": {
          "base_uri": "https://localhost:8080/",
          "height": 333
        },
        "id": "B9efUTELvAGS",
        "outputId": "1653f6fb-5ec9-4c02-c344-a222e11283e8"
      },
      "execution_count": 96,
      "outputs": [
        {
          "output_type": "display_data",
          "data": {
            "text/plain": [
              "<Figure size 500x300 with 1 Axes>"
            ],
            "image/png": "[encoded data removed]"
          },
          "metadata": {}
        }
      ]
    },
    {
      "cell_type": "markdown",
      "source": [
        "### Mendapatkan Data *Bins* pada *Histogram by Groups*"
      ],
      "metadata": {
        "id": "oUQOVNKawQmc"
      }
    },
    {
      "cell_type": "code",
      "source": [
        "# Menyiapkan Data X1 dan X2\n",
        "X1 = data_df_selected_1['Nilai']\n",
        "X2 = data_df_selected_2['Nilai']\n",
        "\n",
        "# Membuat Histogram by Groups\n",
        "plt.figure(figsize=(5,3))                          # Ukuran Gambar (dalam inci)\n",
        "\n",
        "n_1, bins_1, patches_1 = plt.hist(X1,              # Mendapatkan Data Bins untuk Histogram 1\n",
        "                                  label = 'X1',\n",
        "                                  alpha = 0.5)\n",
        "\n",
        "n_2, bins_2, patches_2 = plt.hist(X2,              # Mendapatkan Data Bins untuk Histogram 2\n",
        "                                  label = 'X2',\n",
        "                                  alpha = 0.5)\n",
        "\n",
        "plt.title('Histogram by Groups dari Array')        # Judul Gambar\n",
        "plt.xlabel('X')                                    # Keterangan untuk Sumbu X\n",
        "plt.ylabel('Frekuensi')                            # Keterangan untuk Sumbu Y\n",
        "plt.show()"
      ],
      "metadata": {
        "colab": {
          "base_uri": "https://localhost:8080/",
          "height": 333
        },
        "id": "f1_GNUH3wRG1",
        "outputId": "d38488a4-9515-436f-f1ce-d79e060edd31"
      },
      "execution_count": 97,
      "outputs": [
        {
          "output_type": "display_data",
          "data": {
            "text/plain": [
              "<Figure size 500x300 with 1 Axes>"
            ],
            "image/png": "[encoded data removed]"
          },
          "metadata": {}
        }
      ]
    },
    {
      "cell_type": "code",
      "source": [
        "# Frekuensi Setiap Bins untuk Histogram 1\n",
        "n_1"
      ],
      "metadata": {
        "colab": {
          "base_uri": "https://localhost:8080/"
        },
        "id": "jEeuL9wDVy4H",
        "outputId": "7f0c11c9-fdb1-465b-8b59-a327091d892a"
      },
      "execution_count": 98,
      "outputs": [
        {
          "output_type": "execute_result",
          "data": {
            "text/plain": [
              "array([1., 1., 5., 1., 2., 3., 2., 3., 6., 6.])"
            ]
          },
          "metadata": {},
          "execution_count": 98
        }
      ]
    },
    {
      "cell_type": "code",
      "source": [
        "# Batasan Bins untuk Histogram 1\n",
        "bins_1"
      ],
      "metadata": {
        "colab": {
          "base_uri": "https://localhost:8080/"
        },
        "id": "aHsLqekxV0Wm",
        "outputId": "d27f02fc-facd-4ed6-b182-dae43b04f636"
      },
      "execution_count": 99,
      "outputs": [
        {
          "output_type": "execute_result",
          "data": {
            "text/plain": [
              "array([23. , 29.8, 36.6, 43.4, 50.2, 57. , 63.8, 70.6, 77.4, 84.2, 91. ])"
            ]
          },
          "metadata": {},
          "execution_count": 99
        }
      ]
    },
    {
      "cell_type": "code",
      "source": [
        "# Frekuensi Setiap Bins untuk Histogram 2\n",
        "n_2"
      ],
      "metadata": {
        "colab": {
          "base_uri": "https://localhost:8080/"
        },
        "id": "NnUL8H0q8Nl0",
        "outputId": "5b83e033-8346-4654-b8b2-9deb237b6577"
      },
      "execution_count": 100,
      "outputs": [
        {
          "output_type": "execute_result",
          "data": {
            "text/plain": [
              "array([2., 2., 4., 2., 2., 4., 1., 4., 5., 4.])"
            ]
          },
          "metadata": {},
          "execution_count": 100
        }
      ]
    },
    {
      "cell_type": "code",
      "source": [
        "# Batasan Bins untuk Histogram 2\n",
        "bins_2"
      ],
      "metadata": {
        "colab": {
          "base_uri": "https://localhost:8080/"
        },
        "id": "eZcwm87f8Npy",
        "outputId": "c52c1caa-39f7-4ff7-bae6-1b93afcece7a"
      },
      "execution_count": 101,
      "outputs": [
        {
          "output_type": "execute_result",
          "data": {
            "text/plain": [
              "array([25. , 31.7, 38.4, 45.1, 51.8, 58.5, 65.2, 71.9, 78.6, 85.3, 92. ])"
            ]
          },
          "metadata": {},
          "execution_count": 101
        }
      ]
    },
    {
      "cell_type": "markdown",
      "source": [
        "### Mendefinisikan atau Mengatur Batasan dari *Bins* pada *Histogram by Groups*"
      ],
      "metadata": {
        "id": "p19yciTXYTfr"
      }
    },
    {
      "cell_type": "code",
      "source": [
        "# Menyiapkan Data X1 dan X2\n",
        "X1 = data_df_selected_1['Nilai']\n",
        "X2 = data_df_selected_2['Nilai']\n",
        "\n",
        "# Mendefinisikan atau Mengatur Batasan dari Bins\n",
        "batasan_bins = [0, 20, 40, 60, 80, 100]\n",
        "\n",
        "# Membuat Histogram by Groups\n",
        "plt.figure(figsize=(5,3))                              # Ukuran Gambar (dalam inci)\n",
        "\n",
        "n_1, bins_1, patches_1 = plt.hist(X1,                  # Mendapatkan Data Bins untuk Histogram 1\n",
        "                                  label = 'X1',\n",
        "                                  alpha = 0.5,\n",
        "                                  bins = batasan_bins) # Mengatur Batasan Bins untuk Histogram 1\n",
        "\n",
        "n_2, bins_2, patches_2 = plt.hist(X2,                  # Mendapatkan Data Bins untuk Histogram 2\n",
        "                                  label = 'X2',\n",
        "                                  alpha = 0.5,\n",
        "                                  bins = batasan_bins) # Mengatur Batasan Bins untuk Histogram 2\n",
        "\n",
        "plt.title('Histogram by Groups dari Array')            # Judul Gambar\n",
        "plt.xlabel('X')                                        # Keterangan untuk Sumbu X\n",
        "plt.ylabel('Frekuensi')                                # Keterangan untuk Sumbu Y\n",
        "plt.show()"
      ],
      "metadata": {
        "colab": {
          "base_uri": "https://localhost:8080/",
          "height": 333
        },
        "id": "4R2DKJF8YUHS",
        "outputId": "f343a4f3-6948-49f6-8a2e-7d527293e4ae"
      },
      "execution_count": 102,
      "outputs": [
        {
          "output_type": "display_data",
          "data": {
            "text/plain": [
              "<Figure size 500x300 with 1 Axes>"
            ],
            "image/png": "[encoded data removed]"
          },
          "metadata": {}
        }
      ]
    },
    {
      "cell_type": "code",
      "source": [
        "# Frekuensi Setiap Bins untuk Histogram 1\n",
        "n_1"
      ],
      "metadata": {
        "colab": {
          "base_uri": "https://localhost:8080/"
        },
        "id": "wFRgANaOYpJW",
        "outputId": "75cc594b-3bf3-42c1-9b6e-7ed7d9f1b7cc"
      },
      "execution_count": 103,
      "outputs": [
        {
          "output_type": "execute_result",
          "data": {
            "text/plain": [
              "array([ 0.,  5.,  7.,  7., 11.])"
            ]
          },
          "metadata": {},
          "execution_count": 103
        }
      ]
    },
    {
      "cell_type": "code",
      "source": [
        "# Batasan Bins untuk Histogram 1\n",
        "bins_1"
      ],
      "metadata": {
        "colab": {
          "base_uri": "https://localhost:8080/"
        },
        "id": "tj8vgfvPYpzg",
        "outputId": "1ab726d1-e70b-40c1-8416-086df1ff7e35"
      },
      "execution_count": 104,
      "outputs": [
        {
          "output_type": "execute_result",
          "data": {
            "text/plain": [
              "array([  0.,  20.,  40.,  60.,  80., 100.])"
            ]
          },
          "metadata": {},
          "execution_count": 104
        }
      ]
    },
    {
      "cell_type": "code",
      "source": [
        "# Frekuensi Setiap Bins untuk Histogram 2\n",
        "n_2"
      ],
      "metadata": {
        "colab": {
          "base_uri": "https://localhost:8080/"
        },
        "id": "CII5LMVt8Zwh",
        "outputId": "dd5fc6ce-4f12-44e0-d150-3fab0754412b"
      },
      "execution_count": 105,
      "outputs": [
        {
          "output_type": "execute_result",
          "data": {
            "text/plain": [
              "array([ 0.,  4.,  8., 10.,  8.])"
            ]
          },
          "metadata": {},
          "execution_count": 105
        }
      ]
    },
    {
      "cell_type": "code",
      "source": [
        "# Batasan Bins untuk Histogram 2\n",
        "bins_2"
      ],
      "metadata": {
        "colab": {
          "base_uri": "https://localhost:8080/"
        },
        "id": "uDZHAkSR8bAo",
        "outputId": "021a2bba-7b83-43e0-9965-3d66f963e9b1"
      },
      "execution_count": 106,
      "outputs": [
        {
          "output_type": "execute_result",
          "data": {
            "text/plain": [
              "array([  0.,  20.,  40.,  60.,  80., 100.])"
            ]
          },
          "metadata": {},
          "execution_count": 106
        }
      ]
    },
    {
      "cell_type": "markdown",
      "source": [
        "### Mengatur Ukuran atau Lebar dari *Bins* pada *Histogram by Groups*"
      ],
      "metadata": {
        "id": "F2yUq1jwYu02"
      }
    },
    {
      "cell_type": "code",
      "source": [
        "# Menyiapkan Data X1 dan X2\n",
        "X1 = data_df_selected_1['Nilai']\n",
        "X2 = data_df_selected_2['Nilai']\n",
        "\n",
        "# Mengatur Lebar dari Bins\n",
        "lebar_bins = 20\n",
        "batasan_bins_1 = np.arange(min(X1), max(X1) + lebar_bins, lebar_bins)\n",
        "batasan_bins_2 = np.arange(min(X2), max(X2) + lebar_bins, lebar_bins)\n",
        "\n",
        "# Membuat Histogram by Groups\n",
        "plt.figure(figsize=(5,3))                                # Ukuran Gambar (dalam inci)\n",
        "\n",
        "n_1, bins_1, patches_1 = plt.hist(X1,                    # Mendapatkan Data Bins untuk Histogram 1\n",
        "                                  label = 'X1',\n",
        "                                  alpha = 0.5,\n",
        "                                  bins = batasan_bins_1) # Mengatur Batasan Bins untuk Histogram 1\n",
        "\n",
        "n_2, bins_2, patches_2 = plt.hist(X2,                    # Mendapatkan Data Bins untuk Histogram 2\n",
        "                                  label = 'X2',\n",
        "                                  alpha = 0.5,\n",
        "                                  bins = batasan_bins_2) # Mengatur Batasan Bins untuk Histogram 2\n",
        "\n",
        "plt.title('Histogram by Groups dari Array')              # Judul Gambar\n",
        "plt.xlabel('X')                                          # Keterangan untuk Sumbu X\n",
        "plt.ylabel('Frekuensi')                                  # Keterangan untuk Sumbu Y\n",
        "plt.show()"
      ],
      "metadata": {
        "colab": {
          "base_uri": "https://localhost:8080/",
          "height": 333
        },
        "id": "kXs9MjOjYwMY",
        "outputId": "13c63b9e-1129-4078-df07-9965873f7498"
      },
      "execution_count": 107,
      "outputs": [
        {
          "output_type": "display_data",
          "data": {
            "text/plain": [
              "<Figure size 500x300 with 1 Axes>"
            ],
            "image/png": "[encoded data removed]"
          },
          "metadata": {}
        }
      ]
    },
    {
      "cell_type": "code",
      "source": [
        "# Frekuensi Setiap Bins untuk Histogram 1\n",
        "n_1"
      ],
      "metadata": {
        "colab": {
          "base_uri": "https://localhost:8080/"
        },
        "id": "3ssBVQIJY7NN",
        "outputId": "d898b5ac-1225-4091-b8c0-1b5c7c41ef99"
      },
      "execution_count": 108,
      "outputs": [
        {
          "output_type": "execute_result",
          "data": {
            "text/plain": [
              "array([ 7.,  6., 10.,  7.])"
            ]
          },
          "metadata": {},
          "execution_count": 108
        }
      ]
    },
    {
      "cell_type": "code",
      "source": [
        "# Batasan Bins untuk Histogram 1\n",
        "bins_1"
      ],
      "metadata": {
        "colab": {
          "base_uri": "https://localhost:8080/"
        },
        "id": "l7hkVc46Y79h",
        "outputId": "c524b911-f85c-45a6-acfc-84193a751fe9"
      },
      "execution_count": 109,
      "outputs": [
        {
          "output_type": "execute_result",
          "data": {
            "text/plain": [
              "array([ 23.,  43.,  63.,  83., 103.])"
            ]
          },
          "metadata": {},
          "execution_count": 109
        }
      ]
    },
    {
      "cell_type": "code",
      "source": [
        "# Frekuensi Setiap Bins untuk Histogram 2\n",
        "n_2"
      ],
      "metadata": {
        "colab": {
          "base_uri": "https://localhost:8080/"
        },
        "id": "8wbsTrZ788Ah",
        "outputId": "1f57bc76-163f-4c45-8015-f2b205c41953"
      },
      "execution_count": 110,
      "outputs": [
        {
          "output_type": "execute_result",
          "data": {
            "text/plain": [
              "array([ 5., 11., 10.,  4.])"
            ]
          },
          "metadata": {},
          "execution_count": 110
        }
      ]
    },
    {
      "cell_type": "code",
      "source": [
        "# Batasan Bins untuk Histogram 2\n",
        "bins_2"
      ],
      "metadata": {
        "colab": {
          "base_uri": "https://localhost:8080/"
        },
        "id": "e0fE7JSP89TZ",
        "outputId": "ef2e019b-a6a6-4944-98a6-eb12c84a9c01"
      },
      "execution_count": 111,
      "outputs": [
        {
          "output_type": "execute_result",
          "data": {
            "text/plain": [
              "array([ 25.,  45.,  65.,  85., 105.])"
            ]
          },
          "metadata": {},
          "execution_count": 111
        }
      ]
    },
    {
      "cell_type": "markdown",
      "source": [
        "# Referensi Eksternal\n",
        "\n",
        "*   https://www.geeksforgeeks.org/overlapping-histograms-with-matplotlib-in-python/\n",
        "*   https://www.geeksforgeeks.org/how-to-plot-two-histograms-together-in-matplotlib/\n",
        "*   https://www.statology.org/pandas-histogram-by-group/\n",
        "*   https://www.geeksforgeeks.org/how-to-fill-color-by-groups-in-histogram-using-matplotlib/\n",
        "\n"
      ],
      "metadata": {
        "id": "sG_ASLwmuidI"
      }
    }
  ]
}